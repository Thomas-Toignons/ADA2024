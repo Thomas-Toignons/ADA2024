{
 "cells": [
  {
   "cell_type": "markdown",
   "id": "09e9a536",
   "metadata": {},
   "source": [
    "## ADA final exam (Fall 2022)\n",
    "\n",
    "This exam consists of 3 tasks. Tasks 2 and 3 are independent of each other (although conceptually related).\n"
   ]
  },
  {
   "cell_type": "markdown",
   "id": "68507ec4",
   "metadata": {},
   "source": [
    "## Dataset\n",
    "\n",
    "For a Wikipedia editor to become an administrator, a so-called “request for adminship” ([RfA](https://en.wikipedia.org/wiki/Wikipedia:Requests_for_adminship)) must be submitted by either the candidate or another community member. Subsequently, any Wikipedia member may cast a supporting or opposing vote. Here we provide a simplified version of the Wikipedia RfA dataset, containing all votes from 2003 through 2012.\n",
    "\n",
    "###  Data format\n",
    "\n",
    "|        |   SRC |   TGT |   VOT |   RES |   YEA | DAT                 | TXT                                                                                                                                                                                               |\n",
    "|-------:|------:|------:|------:|------:|------:|:--------------------|:--------------------------------------------------------------------------------------------------------------------------------------------------------------------------------------------------|\n",
    "|  39054 |  3444 | 10170 |     1 |     1 |  2009 | 2009-07-01 17:50:00 | '''Support''' - Best of luck. &nbsp;                                                                                                                                                              |\n",
    "| 159680 |   722 |  9634 |    -1 |    -1 |  2006 | 2006-12-15 07:28:00 | '''Oppose''' Not even 2000 edits.                                                                                                                                                                 |\n",
    "| 173438 |  4194 |  5524 |     1 |     1 |  2005 | 2005-03-18 19:22:00 | Ohhh, you're Carrp!  In that case, '''Support'''.                                                                                                                                                 |\n",
    "|  60627 |  4855 |  9436 |     1 |     1 |  2008 | 2008-12-18 23:26:00 | '''Support''' via thoughtful answer to my question that demonstrates this editor has clue.                                                 |\n",
    "| 194809 |  7687 |   908 |     1 |     1 |  2004 | 2004-09-25 05:21:00 | Nicholas is very good in English. Also, he got '''exceptional''' patience to explain petty obvious facts in talk page to convince ignorants. Let the world be benefitted more out of his work. -- |\n",
    "\n",
    "\n",
    "- SRC: the user name of the source of the vote, i.e., of the user who cast the vote.\n",
    "- TGT: the user name of the target of the vote, i.e., of the user running for election.\n",
    "- VOT: the source's vote on the target (-1 = oppose; 1 = support).\n",
    "- RES: the outcome of the election (-1 = target was rejected as admin; 1 = target was accepted). **(We will not use this  column in this exam.)**\n",
    "- YEA: the year of the RfA.\n",
    "- DAT: the date and time of this vote. **(We will not use this column in this exam.)**\n",
    "- TXT: the comment written by the source. **(We will not use this column in this exam.)**\n",
    "\n",
    "---\n"
   ]
  },
  {
   "cell_type": "markdown",
   "id": "4a4a661c",
   "metadata": {},
   "source": [
    "## Structural balance theory\n",
    "\n",
    "**Structural balance theory** affirms that social networks tend to be organized so as to avoid conflictual situations, e.g., if a great friend of yours hates someone, you will likely not befriend that person.\n",
    "\n",
    "The theory can be operationalized by looking at _triangles_ in an undirected _signed graph_ capturing person-to-person relationships, where a _signed graph_ is a  graph in which each edge is associated with a positive or negative sign, and a _triangle_ is a set of three edges ($\\langle u,v \\rangle$, $\\langle v,w\\rangle$, $\\langle u,w\\rangle$) that fully connect three distinct nodes ($u, v, w$).\n",
    "\n",
    "\n",
    "\n",
    "_Triangles_ in an undirected signed graph can be in 4 _configurations_:\n",
    "all positive edges ($\\{+,+,+\\}$); \n",
    "all negative edges ($\\{-,-,-\\}$); \n",
    "two positive edges and one negative edge ($\\{+,+,-\\}$);\n",
    "one positive edge and two negative edges ($\\{+,-,-\\}$).\n",
    "\n",
    "Structural balance theory posits that social networks tend to favor triangle configurations with an even number of negative signs (i.e., $\\{+,+,+\\}$ and $\\{+,-,-\\}$), which can be understood as being “balanced” by avoiding conflictual situations. Intuitively, $\\{+,+,+\\}$ could be tagged as “The friend of my friend is my friend”, and $\\{+,-,-\\}$ as “The enemy of my enemy is my friend”, “The friend of my enemy is my enemy”, or “The enemy of my friend is my enemy”. On the contrary, triangle configurations with an odd number of negative signs (i.e., $\\{+,+,-\\}$ and $\\{-,-,-\\}$) are unstable (“unbalanced”) according to structural balance theory and will thus occur less frequently in social networks. For instance, me being friends with two mutual enemies ($\\{+,+,-\\}$) would lead to tension that could be resolved if the two enemies became friends or if I took sides and ended my friendship with one of the two. Similarly, two among three mutual enemies ($\\{-,-,-\\}$) would have the incentive to form an alliance to “gang up” against the third.\n",
    "\n",
    "Some social scientists have argued that three mutual enemies ($\\{-,-,-\\}$) is not necessarily a triangle configuration that social networks tend to avoid. This gives rise to **weak structural balance theory**, which only posits that social networks tend to avoid the “unbalanced” triangle configuration $\\{+,+,-\\}$.\n",
    "\n",
    "In a nutshell,\n",
    "- structural balance theory\n",
    "  - considers $\\{+,+,+\\}$, $\\{+,-,-\\}$ as balanced,\n",
    "  - and $\\{+,+,-\\}$, $\\{-,-,-\\}$ as unbalanced;\n",
    "- weak structural balance theory\n",
    "  - considers $\\{+,+,+\\}$, $\\{+,-,-\\}$, $\\{-,-,-\\}$ as balanced,\n",
    "  - and $\\{+,+,-\\}$ as unbalanced.\n",
    "\n"
   ]
  },
  {
   "cell_type": "markdown",
   "id": "d5f337c9",
   "metadata": {},
   "source": [
    "### Task 1: Preliminaries\n",
    "\n",
    "As a good data scientist, you first load the data and explore it.\n",
    "\n",
    "**1.1**\n",
    "Load the csv file `wiki-RfA.csv.gz` in a pandas dataframe. Calculate the number of distinct RfAs and the average number of votes per RfA.\n",
    "- **Hint:** Throughout this question, assume that each RfA is uniquely determined by the column `TGT` and each vote is uniquely determined by the combination of `SRC` and `TGT`."
   ]
  },
  {
   "cell_type": "code",
   "execution_count": 1,
   "id": "fdeacbd9",
   "metadata": {},
   "outputs": [],
   "source": [
    "import pandas as pd\n",
    "import numpy as np\n",
    "import matplotlib.pyplot as plt\n",
    "import networkx as nx\n",
    "import sklearn\n",
    "import statsmodels as sms\n",
    "import seaborn as sns"
   ]
  },
  {
   "cell_type": "code",
   "execution_count": 2,
   "id": "ff2e92a5",
   "metadata": {},
   "outputs": [
    {
     "name": "stdout",
     "output_type": "stream",
     "text": [
      "Number of unique RfA: 3439\n",
      "Average number of votes: 48.561500436173304\n"
     ]
    }
   ],
   "source": [
    "# 1.1\n",
    "df = pd.read_csv(\"wiki-RfA.csv.gz\")\n",
    "tmp = df.copy().groupby([\"TGT\"]).SRC.count()\n",
    "print(f\"Number of unique RfA: {len(tmp)}\")\n",
    "print(f\"Average number of votes: {tmp.mean()}\")"
   ]
  },
  {
   "cell_type": "markdown",
   "id": "813b5a32",
   "metadata": {},
   "source": [
    "**1.2** \n",
    "In a single figure with three subfigures (one per item), show the following time series:\n",
    "- the number of RfAs per year;\n",
    "- the overall fraction of positive votes per year; and \n",
    "- the average number of votes per RfA per year.\n",
    "\n",
    "For each of the above three quantities, print the value for the year 2008."
   ]
  },
  {
   "cell_type": "code",
   "execution_count": 3,
   "id": "b1732d7e",
   "metadata": {},
   "outputs": [
    {
     "name": "stdout",
     "output_type": "stream",
     "text": [
      "For year 2008: \n",
      " 520 RfAs \n",
      " 0.7612268475384787% positive votes \n",
      " 51.60192307692308 average vote per RfA\n"
     ]
    }
   ],
   "source": [
    "# 1.2 \n",
    "tmp = df.copy()\n",
    "tmp[\"Group\"]= tmp.groupby([\"YEA\"]).ngroup()\n",
    "\n",
    "RfA_Y = {}\n",
    "posV_Y = {}\n",
    "avg_Y = {}\n",
    "\n",
    "for group_id, group in tmp.groupby(\"YEA\"):\n",
    "    RfA_Y[group_id] = group.TGT.nunique()\n",
    "    posV_Y[group_id] = group[group[\"VOT\"] > 0].VOT.count()/group.shape[0]\n",
    "    avg_Y[group_id] = group.groupby([\"TGT\"]).VOT.count().mean()\n",
    "\n",
    "print(f\"For year 2008: \\n {RfA_Y[2008]} RfAs \\n {posV_Y[2008]}% positive votes \\n {avg_Y[2008]} average vote per RfA\")"
   ]
  },
  {
   "cell_type": "code",
   "execution_count": 4,
   "id": "3a551a1c",
   "metadata": {},
   "outputs": [
    {
     "data": {
      "image/png": "[encoded data removed]",
      "text/plain": [
       "<Figure size 500x1500 with 3 Axes>"
      ]
     },
     "metadata": {},
     "output_type": "display_data"
    }
   ],
   "source": [
    "fig, axes = plt.subplots(3,1, sharex=True, figsize=(5,15))\n",
    "axes[0].plot(RfA_Y.keys(), RfA_Y.values(), 'o-')\n",
    "axes[1].plot(posV_Y.keys(), posV_Y.values(), 'o-')\n",
    "axes[2].plot(avg_Y.keys(), avg_Y.values(), 'o-')\n",
    "plt.show()"
   ]
  },
  {
   "cell_type": "markdown",
   "id": "366d38d9",
   "metadata": {},
   "source": [
    "**1.3** \n",
    "**/Discuss:/** Describe the temporal patterns observed in the plots you did in **T1.2**."
   ]
  },
  {
   "cell_type": "markdown",
   "id": "e77900f8",
   "metadata": {},
   "source": [
    "**A1.3** \n",
    "*YOUR ANSWER HERE*"
   ]
  },
  {
   "cell_type": "markdown",
   "id": "81126c89",
   "metadata": {},
   "source": [
    "**1.4** \n",
    "Create an undirected graph ([`nx.Graph`](https://networkx.org/documentation/stable/reference/classes/graph.html)) where every node corresponds to a Wikipedia user (source or target of an RfA) and where there exists an edge between two users if at least one of them has voted on the other. Each edge should have attributes corresponding to columns of the dataframe, namely:\n",
    "- `VOT`, which equals `1` if the vote was positive, and `-1` otherwise.\n",
    "- `YEA`, an integer that represents the year of the RfA.\n",
    "\n",
    "**The code to load the graph has been provided to you!** After running it, print the number of nodes and edges in your graph.\n",
    "\n",
    "---\n",
    "\n",
    "**Observation:** Note that we have at most one edge per pair of nodes in the graph, even though two votes may be associated with the pair  — e.g., if A voted in B's RfA in time $t_1$ and B voted in A's RfA in time $t_2$ ($t_1 < t_2$). In these cases, the code provided associates the metadata of the oldest vote ($t_1$ in the example) to the edge between A and B."
   ]
  },
  {
   "cell_type": "code",
   "execution_count": 5,
   "id": "e57d4776",
   "metadata": {},
   "outputs": [],
   "source": [
    "# Provided code! Do not change!\n",
    "import networkx as nx\n",
    "import pandas as pd\n",
    "G = nx.from_pandas_edgelist(pd.read_csv(\"./wiki-RfA.csv.gz\"), \n",
    "                            'SRC', 'TGT', ['VOT', 'RES', 'YEA', 'DAT'], create_using=nx.Graph)"
   ]
  },
  {
   "cell_type": "code",
   "execution_count": 6,
   "id": "f21ec7a6",
   "metadata": {},
   "outputs": [
    {
     "name": "stdout",
     "output_type": "stream",
     "text": [
      "Graph with 10831 nodes and 161147 edges\n"
     ]
    }
   ],
   "source": [
    "# 1.4\n",
    "print(G)"
   ]
  },
  {
   "cell_type": "markdown",
   "id": "37cbd1b8",
   "metadata": {},
   "source": [
    "**1.5** \n",
    "Plot the **complementary** cumulative distribution of the degree centrality of the undirected graph. Use a logarithmic (base 10) x-axis and a linear y-axis."
   ]
  },
  {
   "cell_type": "code",
   "execution_count": 7,
   "id": "dff0b6e3",
   "metadata": {},
   "outputs": [
    {
     "data": {
      "text/plain": [
       "Text(0.5, 0, 'Degree centrality')"
      ]
     },
     "execution_count": 7,
     "metadata": {},
     "output_type": "execute_result"
    },
    {
     "data": {
      "image/png": "[encoded data removed]",
      "text/plain": [
       "<Figure size 640x480 with 1 Axes>"
      ]
     },
     "metadata": {},
     "output_type": "display_data"
    }
   ],
   "source": [
    "sns.ecdfplot(list(dict(G.degree()).values()), complementary=True)\n",
    "plt.xscale(\"log\")\n",
    "plt.axvline(11)\n",
    "plt.axhline(0.4)\n",
    "plt.title(\"Complementary CDF\")\n",
    "plt.xlabel(\"Degree centrality\")"
   ]
  },
  {
   "cell_type": "markdown",
   "id": "935be3bf",
   "metadata": {},
   "source": [
    "\n",
    "**1.6**\n",
    "**/Discuss:/** Why is the following statement false? Justify your answer. **\"From the graph obtained in task 1.5, one can conclude that around 40% of the users voted at least 11 times.\"**\n"
   ]
  },
  {
   "cell_type": "markdown",
   "id": "3316f395",
   "metadata": {},
   "source": [
    "**A1.6**\n",
    "*YOUR ANSWER HERE*"
   ]
  },
  {
   "cell_type": "markdown",
   "id": "9d1d5f4a",
   "metadata": {},
   "source": [
    "**1.7**\n",
    "What fraction of users voted at least 11 times? Use the data to measure the fraction."
   ]
  },
  {
   "cell_type": "code",
   "execution_count": 8,
   "id": "a167a11b",
   "metadata": {},
   "outputs": [
    {
     "data": {
      "text/plain": [
       "0.24863816822084756"
      ]
     },
     "execution_count": 8,
     "metadata": {},
     "output_type": "execute_result"
    }
   ],
   "source": [
    "# 1.7\n",
    "G_directed = nx.from_pandas_edgelist(df, 'SRC', 'TGT', ['VOT', 'RES', 'YEA'], create_using=nx.MultiDiGraph)\n",
    "len([val for val in dict(G_directed.out_degree).values() if val>=11])/len(dict(G_directed.out_degree).values())"
   ]
  },
  {
   "cell_type": "markdown",
   "id": "35b05b29",
   "metadata": {},
   "source": [
    "### Task 2: Triangles\n",
    "\n",
    "Next, you set out to investigate the social balance theory by looking at the RfA graph.\n",
    "\n",
    "**2.1**\n",
    "Considering _only_ the RfAs of 2004 (i.e., where `YEA == 2004`), generate all triangles in the undirected graph.\n",
    "Print the number of triangles found.\n",
    "- **Hint:** Note that you can generate a graph with only a subset of nodes and edges via ` G.edge_subgraph`.\n",
    "-  **Hint:** The function `nx.enumerate_all_cliques` generates all cliques in an undirected graph. First, all cliques of size 1 are generated, then all cliques of size 2, etc. Triangles are cliques of size 3.\n"
   ]
  },
  {
   "cell_type": "code",
   "execution_count": 9,
   "id": "b39a403e",
   "metadata": {},
   "outputs": [
    {
     "name": "stdout",
     "output_type": "stream",
     "text": [
      "Triangles 8448\n"
     ]
    }
   ],
   "source": [
    "# 2.1\n",
    "edges_2004 = [i for i, v in nx.get_edge_attributes(G, \"YEA\").items() if v == 2004]\n",
    "G_2004 = G.edge_subgraph(edges_2004)\n",
    "\n",
    "idx = 0\n",
    "tmp = []\n",
    "for i in nx.enumerate_all_cliques(G_2004):\n",
    "    if len(i) < 3: \n",
    "        continue\n",
    "    if len(i) > 3:\n",
    "        break\n",
    "    idx += 1\n",
    "    tmp.append(i)\n",
    "\n",
    "print(\"Triangles\", len(tmp))"
   ]
  },
  {
   "cell_type": "markdown",
   "id": "9b8ac389",
   "metadata": {},
   "source": [
    "**2.2 ** **/True or false:/** Is the following statement true or false? Justify your answer. **\"The node with the highest clustering coefficient in an undirected graph is the node that belongs to the largest number of triangles.\"**"
   ]
  },
  {
   "cell_type": "markdown",
   "id": "f961eef7",
   "metadata": {},
   "source": [
    "**A2.2**\n",
    "*YOUR ANSWER HERE*"
   ]
  },
  {
   "cell_type": "markdown",
   "id": "e2f5b22c",
   "metadata": {},
   "source": [
    "**2.3** Considering the set of triangles previously calculated, estimate the fraction of triangles of configurations\n",
    " $\\{+,+,+\\}$,  $\\{-,-,-\\}$,  $\\{+,+,-\\}$, and $\\{+,-,-\\}$. What fraction of triangles are \"balanced\" according to structural balance theory?"
   ]
  },
  {
   "cell_type": "code",
   "execution_count": 10,
   "id": "f858e94c",
   "metadata": {},
   "outputs": [
    {
     "name": "stdout",
     "output_type": "stream",
     "text": [
      "{-,-,-}: 0.0052\n",
      "{+,-,-}: 0.0627\n",
      "{+,+,-}: 0.1394\n",
      "{+,+,+}: 0.7926\n",
      "Balanced: 0.8554\n"
     ]
    }
   ],
   "source": [
    "# 2.3\n",
    "counter = {\n",
    "    (-1, -1, -1): 0, # -3\n",
    "    (-1, -1, 1):  0,  # +1-2\n",
    "    (-1, 1, 1):   0,   # +2-1\n",
    "    (1, 1, 1):    0     # +3\n",
    "}\n",
    "\n",
    "\n",
    "for tmp_ in tmp:\n",
    "    x = nx.get_edge_attributes(G.subgraph(tmp_), \"VOT\")\n",
    "    x = tuple(sorted([sign for (u, v), sign in x.items()]))\n",
    "    counter[x] += 1\n",
    "\n",
    "# normalizes it\n",
    "for k in counter:\n",
    "    counter[k] /= len(tmp)\n",
    "\n",
    "print(\"{-,-,-}:\", \n",
    "      round(counter[(-1, -1, -1)], 4) \n",
    ")\n",
    "print(\"{+,-,-}:\", \n",
    "      round(counter[(-1, -1, 1)], 4) \n",
    ")\n",
    "print(\"{+,+,-}:\", \n",
    "      round(counter[(-1, 1, 1)], 4) \n",
    ")\n",
    "print(\"{+,+,+}:\", \n",
    "      round(counter[(1, 1, 1)], 4) \n",
    ")\n",
    "\n",
    "print(\"Balanced:\", round(counter[(-1, -1, 1)] + counter[(1, 1, 1)], 4) )"
   ]
  },
  {
   "cell_type": "markdown",
   "id": "97e6f9f0",
   "metadata": {},
   "source": [
    "**2.4** To observe how triangle configurations would be distributed under a random null model, do the following:\n",
    "- Create a new column `VOT_RND` in the dataframe, where RfA votes (i.e., edge signs in the graph) are shuffled, i.e., permuted randomly.  For shuffling, use `numpy.random`, without replacement and with the seed 32 (see code provided below).\n",
    "- Create a new edge attribute with the values of `VOT_RND` in the graph you created in task **1.4**. You can do this easily using the  [`set_edge_attributes`](https://networkx.org/documentation/stable/reference/generated/networkx.classes.function.set_edge_attributes.html) function.\n",
    "- Considering the shuffled edge signs,  compute the fraction of triangles in each configuration ($\\{+,+,+\\}$,  $\\{-,-,-\\}$,  $\\{+,+,-\\}$, $\\{+,-,-\\}$). Moreover, compute the fraction of triangles that are \"balanced\" according to structural balance theory. (Reminder: consider only the RfAs of 2004.)\n"
   ]
  },
  {
   "cell_type": "code",
   "execution_count": 11,
   "id": "8b4cba61",
   "metadata": {},
   "outputs": [],
   "source": [
    "# PROVIDED STUB FOR 2.4\n",
    "import numpy as np\n",
    "np.random.seed(32)\n",
    "df_2004 = df[df.YEA == 2004].copy(deep=True)\n",
    "df_2004[\"VOT_RND\"] = np.random.choice(df_2004[\"VOT\"].values, size=len(df_2004), replace=False)"
   ]
  },
  {
   "cell_type": "code",
   "execution_count": 12,
   "id": "49cf240b",
   "metadata": {},
   "outputs": [
    {
     "name": "stdout",
     "output_type": "stream",
     "text": [
      "{-,-,-}: 0.0052 / Null:  0.0019\n",
      "{+,-,-}: 0.0627 / Null:  0.0344\n",
      "{+,+,-}: 0.1394 / Null:  0.2779\n",
      "{+,+,+}: 0.7926 / Null:  0.6857\n"
     ]
    },
    {
     "data": {
      "text/plain": [
       "('Balanced, ', 0.7202)"
      ]
     },
     "execution_count": 12,
     "metadata": {},
     "output_type": "execute_result"
    }
   ],
   "source": [
    "# 2.4\n",
    "attrs_to_add = dict(df_2004.set_index([\"SRC\", \"TGT\"]).VOT_RND)\n",
    "\n",
    "\n",
    "nx.set_edge_attributes(G, name=\"VOT_RND\", values=attrs_to_add)\n",
    "\n",
    "counter2 = {\n",
    "    (-1, -1, -1): 0, \n",
    "    (-1, -1, 1):  0, \n",
    "    (-1, 1, 1):   0, \n",
    "    (1, 1, 1):    0  \n",
    "}\n",
    "\n",
    "for tmp_ in tmp:\n",
    "    x = nx.get_edge_attributes(G.subgraph(tmp_), \"VOT_RND\")\n",
    "    x = tuple(sorted([sign for (u, v), sign in x.items()]))\n",
    "    counter2[x] +=1\n",
    "\n",
    "# normalizes it\n",
    "for k in counter2:\n",
    "    counter2[k] /= len(tmp) \n",
    "\n",
    "print(\"{-,-,-}:\", \n",
    "      round(counter[(-1, -1, -1)], 4), \"/ Null: \",\n",
    "      round(counter2[(-1, -1, -1)], 4),\n",
    ")\n",
    "print(\"{+,-,-}:\", \n",
    "      round(counter[(-1, -1, 1)], 4),  \"/ Null: \",\n",
    "      round(counter2[(-1, -1, 1)], 4) \n",
    ")\n",
    "print(\"{+,+,-}:\", \n",
    "      round(counter[(-1, 1, 1)], 4), \"/ Null: \",\n",
    "      round(counter2[(-1, 1, 1)], 4)\n",
    ")\n",
    "print(\"{+,+,+}:\", \n",
    "      round(counter[(1, 1, 1)], 4), \"/ Null: \",\n",
    "      round(counter2[(1, 1, 1)], 4) \n",
    ")\n",
    "\n",
    "\"Balanced, \", round(counter2[(-1, -1, 1)] + counter2[(1, 1, 1)], 4) "
   ]
  },
  {
   "cell_type": "markdown",
   "id": "f055a145",
   "metadata": {},
   "source": [
    "**2.5** **/Discuss:/** Do the results of tasks **2.3** and **2.4** suggest that structural balance theory is correct? What kind of subsequent analysis would make you trust that the results are not obtained simply by chance? (No need to actually perform that subsequent analysis here.) Justify your answer."
   ]
  },
  {
   "cell_type": "markdown",
   "id": "dcd070a6",
   "metadata": {},
   "source": [
    "**A2.5** *YOUR ANSWER HERE*"
   ]
  },
  {
   "cell_type": "markdown",
   "id": "d5252ffb",
   "metadata": {},
   "source": [
    "### Interlude: Additional data\n",
    "\n",
    "In the data provided in the file `wiki-RfA.csv.gz` (with which you’ve worked up to now), each column corresponds to a vote from a user $u$ to a user $v$ at a time $t$. \n",
    "\n",
    "In **Task 2**, we did not consider the temporal aspect of this network. For the next task, you are provided with a complimentary dataset (`data/wiki-RfA_extra.csv.gz`) containing, for each vote (uniquely determined by `SRC` and `TGT`), a variety of features. **Importantly, these features were calculated considering only data that was already available at the time when the respective vote was cast.** The features are described as follows.\n",
    "\n",
    "- `PP`, `NN`, `PN` — Each vote (signed edge) is part of zero or more triangles, and we computed the number of triangles in which the two remaining edges were both positive (`PP`), both negative (`NN`) and of different signs (i.e., one positive and one negative, `PN`). This considers only the votes the target (denoted by `TGT`) has received before the current vote. \n",
    "\n",
    "- `P`, `N` — The number of positive (`P`) and negative (`N`) votes that the target `TGT` received before the current vote.\n",
    "\n",
    "- `TXT_PROCESSED` — The text in the original dataset, processed so 1) it is entirely lower-case, 2) it does not contain non-alphanumeric characters, and 3) it does not contain words starting with “supp” or “opp” (since words such as \"support\" and \"oppose\"  are obvious give-away signals of the vote).\n",
    "\n",
    "### Interlude: Predicting edge signs with structural balance theory\n",
    "\n",
    "We can use structural balance theory to predict edge signs. \n",
    "\n",
    "Consider an edge whose sign we do not know, as well as the fractions `PP`, `NN`, and `PN` associated with the edge, as defined above. \n",
    "\n",
    "According to structural balance theory, if `PP` + `NN` $\\geq$ `PN`, the vote is predicted to be positive, as this will create more balanced triangles in the graph. Otherwise, it is predicted to be negative. \n",
    "\n",
    "According to the weak structural balance theory, if `PP` $\\geq$ `PN`, the vote is predicted to be positive, as this will create more balanced triangles in the graph. Otherwise, it is predicted to be negative. \n",
    "\n",
    "Note that in both cases we use “$\\geq$” rather than “<”, i.e., when both sides of the equation are equal, we break ties in favor of positive edges. We do so because there are more positive edges in the graph."
   ]
  },
  {
   "cell_type": "markdown",
   "id": "e2f20eed",
   "metadata": {},
   "source": [
    "### Task 3: Predict it!\n",
    "\n",
    "In the final part of the exam, you will leverage your machine learning and regression skills.\n",
    "\n",
    "**3.1** Merge the new dataset with the original dataframe from task **1** using the columns `SRC` and `TGT`. You may drop the old `TXT` column if you want to. \n"
   ]
  },
  {
   "cell_type": "code",
   "execution_count": 13,
   "id": "a2272113",
   "metadata": {},
   "outputs": [
    {
     "data": {
      "text/html": [
       "<div>\n",
       "<style scoped>\n",
       "    .dataframe tbody tr th:only-of-type {\n",
       "        vertical-align: middle;\n",
       "    }\n",
       "\n",
       "    .dataframe tbody tr th {\n",
       "        vertical-align: top;\n",
       "    }\n",
       "\n",
       "    .dataframe thead th {\n",
       "        text-align: right;\n",
       "    }\n",
       "</style>\n",
       "<table border=\"1\" class=\"dataframe\">\n",
       "  <thead>\n",
       "    <tr style=\"text-align: right;\">\n",
       "      <th></th>\n",
       "      <th>SRC</th>\n",
       "      <th>TGT</th>\n",
       "      <th>VOT</th>\n",
       "      <th>RES</th>\n",
       "      <th>YEA</th>\n",
       "      <th>DAT</th>\n",
       "      <th>PP</th>\n",
       "      <th>NN</th>\n",
       "      <th>PN</th>\n",
       "      <th>N</th>\n",
       "      <th>P</th>\n",
       "      <th>TXT_PROCESSED</th>\n",
       "    </tr>\n",
       "  </thead>\n",
       "  <tbody>\n",
       "    <tr>\n",
       "      <th>0</th>\n",
       "      <td>5943</td>\n",
       "      <td>9966</td>\n",
       "      <td>-1</td>\n",
       "      <td>-1</td>\n",
       "      <td>2012</td>\n",
       "      <td>2012-12-30 22:27:00</td>\n",
       "      <td>2</td>\n",
       "      <td>0</td>\n",
       "      <td>4</td>\n",
       "      <td>12</td>\n",
       "      <td>0</td>\n",
       "      <td></td>\n",
       "    </tr>\n",
       "    <tr>\n",
       "      <th>1</th>\n",
       "      <td>9153</td>\n",
       "      <td>9966</td>\n",
       "      <td>-1</td>\n",
       "      <td>-1</td>\n",
       "      <td>2012</td>\n",
       "      <td>2012-12-30 22:25:00</td>\n",
       "      <td>2</td>\n",
       "      <td>1</td>\n",
       "      <td>3</td>\n",
       "      <td>11</td>\n",
       "      <td>0</td>\n",
       "      <td>this joke really isn t funny not even if you ...</td>\n",
       "    </tr>\n",
       "    <tr>\n",
       "      <th>2</th>\n",
       "      <td>4189</td>\n",
       "      <td>9966</td>\n",
       "      <td>-1</td>\n",
       "      <td>-1</td>\n",
       "      <td>2012</td>\n",
       "      <td>2012-12-30 22:17:00</td>\n",
       "      <td>0</td>\n",
       "      <td>0</td>\n",
       "      <td>2</td>\n",
       "      <td>10</td>\n",
       "      <td>0</td>\n",
       "      <td>as per nomination and answers</td>\n",
       "    </tr>\n",
       "    <tr>\n",
       "      <th>3</th>\n",
       "      <td>3750</td>\n",
       "      <td>9966</td>\n",
       "      <td>-1</td>\n",
       "      <td>-1</td>\n",
       "      <td>2012</td>\n",
       "      <td>2012-12-30 22:14:00</td>\n",
       "      <td>0</td>\n",
       "      <td>0</td>\n",
       "      <td>0</td>\n",
       "      <td>9</td>\n",
       "      <td>0</td>\n",
       "      <td>and speeedy close this as wp snow as it s cle...</td>\n",
       "    </tr>\n",
       "    <tr>\n",
       "      <th>4</th>\n",
       "      <td>4225</td>\n",
       "      <td>9966</td>\n",
       "      <td>-1</td>\n",
       "      <td>-1</td>\n",
       "      <td>2012</td>\n",
       "      <td>2012-12-30 22:08:00</td>\n",
       "      <td>0</td>\n",
       "      <td>0</td>\n",
       "      <td>1</td>\n",
       "      <td>8</td>\n",
       "      <td>0</td>\n",
       "      <td>per nomination and answers i am particularly ...</td>\n",
       "    </tr>\n",
       "    <tr>\n",
       "      <th>...</th>\n",
       "      <td>...</td>\n",
       "      <td>...</td>\n",
       "      <td>...</td>\n",
       "      <td>...</td>\n",
       "      <td>...</td>\n",
       "      <td>...</td>\n",
       "      <td>...</td>\n",
       "      <td>...</td>\n",
       "      <td>...</td>\n",
       "      <td>...</td>\n",
       "      <td>...</td>\n",
       "      <td>...</td>\n",
       "    </tr>\n",
       "    <tr>\n",
       "      <th>166998</th>\n",
       "      <td>3867</td>\n",
       "      <td>2762</td>\n",
       "      <td>1</td>\n",
       "      <td>1</td>\n",
       "      <td>2003</td>\n",
       "      <td>2003-08-23 03:34:00</td>\n",
       "      <td>0</td>\n",
       "      <td>0</td>\n",
       "      <td>0</td>\n",
       "      <td>0</td>\n",
       "      <td>0</td>\n",
       "      <td>also llywrch has been here for ages and done n...</td>\n",
       "    </tr>\n",
       "    <tr>\n",
       "      <th>166999</th>\n",
       "      <td>8091</td>\n",
       "      <td>8486</td>\n",
       "      <td>1</td>\n",
       "      <td>1</td>\n",
       "      <td>2003</td>\n",
       "      <td>2003-08-21 11:47:00</td>\n",
       "      <td>0</td>\n",
       "      <td>0</td>\n",
       "      <td>0</td>\n",
       "      <td>0</td>\n",
       "      <td>0</td>\n",
       "      <td>user talk fantasy thanks and other of his act...</td>\n",
       "    </tr>\n",
       "    <tr>\n",
       "      <th>167000</th>\n",
       "      <td>1581</td>\n",
       "      <td>8767</td>\n",
       "      <td>1</td>\n",
       "      <td>1</td>\n",
       "      <td>2003</td>\n",
       "      <td>2003-08-18 23:16:00</td>\n",
       "      <td>0</td>\n",
       "      <td>0</td>\n",
       "      <td>0</td>\n",
       "      <td>0</td>\n",
       "      <td>0</td>\n",
       "      <td>for wikiquote but i haven t seen enough evide...</td>\n",
       "    </tr>\n",
       "    <tr>\n",
       "      <th>167001</th>\n",
       "      <td>1011</td>\n",
       "      <td>8056</td>\n",
       "      <td>1</td>\n",
       "      <td>1</td>\n",
       "      <td>2003</td>\n",
       "      <td>2003-08-16 01:25:00</td>\n",
       "      <td>0</td>\n",
       "      <td>0</td>\n",
       "      <td>0</td>\n",
       "      <td>0</td>\n",
       "      <td>0</td>\n",
       "      <td>does good things with maps</td>\n",
       "    </tr>\n",
       "    <tr>\n",
       "      <th>167002</th>\n",
       "      <td>1011</td>\n",
       "      <td>7238</td>\n",
       "      <td>1</td>\n",
       "      <td>1</td>\n",
       "      <td>2003</td>\n",
       "      <td>2003-08-16 01:25:00</td>\n",
       "      <td>0</td>\n",
       "      <td>0</td>\n",
       "      <td>0</td>\n",
       "      <td>0</td>\n",
       "      <td>0</td>\n",
       "      <td></td>\n",
       "    </tr>\n",
       "  </tbody>\n",
       "</table>\n",
       "<p>167003 rows × 12 columns</p>\n",
       "</div>"
      ],
      "text/plain": [
       "         SRC   TGT  VOT  RES   YEA                  DAT  PP  NN  PN   N  P  \\\n",
       "0       5943  9966   -1   -1  2012  2012-12-30 22:27:00   2   0   4  12  0   \n",
       "1       9153  9966   -1   -1  2012  2012-12-30 22:25:00   2   1   3  11  0   \n",
       "2       4189  9966   -1   -1  2012  2012-12-30 22:17:00   0   0   2  10  0   \n",
       "3       3750  9966   -1   -1  2012  2012-12-30 22:14:00   0   0   0   9  0   \n",
       "4       4225  9966   -1   -1  2012  2012-12-30 22:08:00   0   0   1   8  0   \n",
       "...      ...   ...  ...  ...   ...                  ...  ..  ..  ..  .. ..   \n",
       "166998  3867  2762    1    1  2003  2003-08-23 03:34:00   0   0   0   0  0   \n",
       "166999  8091  8486    1    1  2003  2003-08-21 11:47:00   0   0   0   0  0   \n",
       "167000  1581  8767    1    1  2003  2003-08-18 23:16:00   0   0   0   0  0   \n",
       "167001  1011  8056    1    1  2003  2003-08-16 01:25:00   0   0   0   0  0   \n",
       "167002  1011  7238    1    1  2003  2003-08-16 01:25:00   0   0   0   0  0   \n",
       "\n",
       "                                            TXT_PROCESSED  \n",
       "0                                                          \n",
       "1        this joke really isn t funny not even if you ...  \n",
       "2                          as per nomination and answers   \n",
       "3        and speeedy close this as wp snow as it s cle...  \n",
       "4        per nomination and answers i am particularly ...  \n",
       "...                                                   ...  \n",
       "166998  also llywrch has been here for ages and done n...  \n",
       "166999   user talk fantasy thanks and other of his act...  \n",
       "167000   for wikiquote but i haven t seen enough evide...  \n",
       "167001                        does good things with maps   \n",
       "167002                                                     \n",
       "\n",
       "[167003 rows x 12 columns]"
      ]
     },
     "execution_count": 13,
     "metadata": {},
     "output_type": "execute_result"
    }
   ],
   "source": [
    "# 3.1\n",
    "df_extra = pd.read_csv(\"wiki-RfA_extra.csv.gz\")\n",
    "merged_df = pd.merge(left=df, right=df_extra, on=[\"TGT\", \"SRC\", \"YEA\"]).drop(columns=[\"TXT\"])\n",
    "merged_df"
   ]
  },
  {
   "cell_type": "markdown",
   "id": "c5d42a2d",
   "metadata": {},
   "source": [
    "**3.2**  Create the following two rule-based classifiers, and for each, estimate its area under the ROC curve (a.k.a. “AUC/ROC”) on the entire dataset:\n",
    "\n",
    "- **A)** a classifier inspired by structural balance theory. The classifier should predict a positive vote if  `PP` + `NN` $\\geq$ `PN`, and a negative vote otherwise.\n",
    "- **B)** a classifier inspired by weak structural balance theory. The classifier should predict a positive vote if `PP`  $\\geq$ `PN` and a negative vote otherwise."
   ]
  },
  {
   "cell_type": "code",
   "execution_count": 14,
   "id": "13ce4ee5",
   "metadata": {},
   "outputs": [],
   "source": [
    "from sklearn.metrics import roc_auc_score"
   ]
  },
  {
   "cell_type": "code",
   "execution_count": 15,
   "id": "44643421",
   "metadata": {},
   "outputs": [
    {
     "name": "stdout",
     "output_type": "stream",
     "text": [
      "A) roc score 0.525390127858417\n",
      "B) roc score 0.528036104766419\n"
     ]
    }
   ],
   "source": [
    "# 3.2\n",
    "# A)\n",
    "y = (merged_df.VOT.values == 1).astype(int)\n",
    "y_pred = (merged_df.PP + merged_df.NN >= merged_df.PN).astype(int)\n",
    "print(\"A) roc score\", roc_auc_score(y, y_pred))\n",
    "\n",
    "# B)\n",
    "y = (merged_df.VOT.values == 1).astype(int)\n",
    "y_pred = (merged_df.PP >= merged_df.PN).astype(int)\n",
    "print(\"B) roc score\", roc_auc_score(y, y_pred))"
   ]
  },
  {
   "cell_type": "markdown",
   "id": "0161ec09",
   "metadata": {},
   "source": [
    "**3.3** To determine if the differences in the classifiers from task **3.2** occur solely due to chance, follow the following bootstrap procedure, using 200 iterations:\n",
    "\n",
    "- **A)** Randomly sample the entire dataset (i.e., votes from the dataframe constructed in task **3.1**) with replacement;\n",
    "- **B)** Compute the difference of the AUC/ROC for the two classifiers on the entire dataset.\n",
    "\n",
    "Then use the distribution of AUC/ROC differences (one difference per bootstrap iteration) to estimate the 95% confidence interval for the AUC/ROC difference."
   ]
  },
  {
   "cell_type": "code",
   "execution_count": 16,
   "id": "817ee28f",
   "metadata": {},
   "outputs": [
    {
     "name": "stdout",
     "output_type": "stream",
     "text": [
      "95% CI: [-0.00303181 -0.00230568]\n"
     ]
    }
   ],
   "source": [
    "# 3.3 \n",
    "\n",
    "BF = []\n",
    "\n",
    "for i in range(200):\n",
    "    df_sample = merged_df.sample(frac=1, replace=True)\n",
    "    # A)\n",
    "    y = (df_sample.VOT.values == 1).astype(int)\n",
    "    y_pred = (df_sample.PP + df_sample.NN >= df_sample.PN).astype(int)\n",
    "    \n",
    "    BF1 = roc_auc_score(y, y_pred)\n",
    "\n",
    "    # B)\n",
    "    y = (df_sample.VOT.values == 1).astype(int)\n",
    "    y_pred = (df_sample.PP >= df_sample.PN).astype(int)\n",
    "    BF2 = roc_auc_score(y, y_pred)\n",
    "    \n",
    "    BF.append(BF1 - BF2)\n",
    "\n",
    "print(\"95% CI:\", np.quantile( np.array(BF), q=[0.025, 0.975]))"
   ]
  },
  {
   "cell_type": "markdown",
   "id": "4d0e1569",
   "metadata": {},
   "source": [
    "**3.4 ** **/Discuss:**/ According to the results in tasks **3.2** and **3.3**, which theory better predicts actual edge signs, structural balance theory or the weak structural balance theory? \n"
   ]
  },
  {
   "cell_type": "markdown",
   "id": "94b39801",
   "metadata": {},
   "source": [
    "**A3.4** *YOUR ANSWER HERE*"
   ]
  },
  {
   "cell_type": "markdown",
   "id": "28d37dc1",
   "metadata": {},
   "source": [
    "**3.5** How accurately can we predict the vote with more sophisticated features and algorithms?\n",
    "\n",
    "- Create a TF-IDF representation of the text of each vote  using `sklearn`'s vectorizer ([`sklearn.feature_extraction.text.TfidfVectorizer`](https://scikit-learn.org/stable/modules/generated/sklearn.feature_extraction.text.TfidfVectorizer.html)) with the parameters `max_features=150` and `stop_words='english'`.\n",
    "- Split the  dataset into training and test sets using sklearn [`sklearn.model_selection.train_test_split`](https://scikit-learn.org/stable/modules/generated/sklearn.model_selection.train_test_split.html) using parameters `test_size=0.1` and  `random_state=42`.\n",
    "\n",
    "- Then, train two logistic regression models ([`sklearn.linear_model.SGDClassifier`](https://scikit-learn.org/stable/modules/generated/sklearn.linear_model.SGDClassifier.html)) using parameters `loss='log_loss'` and `max_iter=2000` considering:\n",
    "\n",
    "    - **1)** the TF-IDF feature vector\n",
    "\n",
    "    - **2)** the TF-IDF feature vector and the features `PP`, `NN`, `PN`, `P`, and `N` related to the graph.\n",
    "\n",
    "- Last, report the AUC/ROC of each model in the test set."
   ]
  },
  {
   "cell_type": "code",
   "execution_count": 17,
   "id": "839e6397",
   "metadata": {},
   "outputs": [],
   "source": [
    "from sklearn.feature_extraction.text import TfidfVectorizer\n",
    "from sklearn.linear_model import SGDClassifier\n",
    "from sklearn.model_selection import train_test_split\n"
   ]
  },
  {
   "cell_type": "code",
   "execution_count": 18,
   "id": "764a00f3",
   "metadata": {},
   "outputs": [
    {
     "name": "stdout",
     "output_type": "stream",
     "text": [
      "\n",
      "loss hinge / df_type: fillna\n",
      "Before split / roc_auc_score (without extra features) 0.6737970421479251\n",
      "Before split / roc_auc_score  (with extra features) 0.7255085037258748\n",
      "After split / roc_auc_score (without extra features) 0.674124579121076\n",
      "After split / roc_auc_score (without extra features) 0.8072730770455273\n",
      "\n",
      "loss hinge / df_type: dropna\n",
      "Before split / roc_auc_score (without extra features) 0.6845838723418747\n",
      "Before split / roc_auc_score  (with extra features) 0.7959449312904007\n",
      "After split / roc_auc_score (without extra features) 0.6849575312219962\n",
      "After split / roc_auc_score (without extra features) 0.7896094743222035\n",
      "\n",
      "loss log_loss / df_type: fillna\n",
      "Before split / roc_auc_score (without extra features) 0.7004806878973522\n",
      "(with predict_proba) 0.8563128457210444\n",
      "Before split / roc_auc_score  (with extra features) 0.7411868301857975\n",
      "(with predict_proba) 0.8785898857548208\n",
      "After split / roc_auc_score (without extra features) 0.6990490909056859\n",
      "(with predict_proba) 0.8553744425649702\n",
      "After split / roc_auc_score (without extra features) 0.7415174260157225\n",
      "(with predict_proba) 0.8792679739568519\n",
      "\n",
      "loss log_loss / df_type: dropna\n",
      "Before split / roc_auc_score (without extra features) 0.6963453413680117\n",
      "(with predict_proba) 0.8591929512532477\n",
      "Before split / roc_auc_score  (with extra features) 0.7714919939322726\n",
      "(with predict_proba) 0.9053506771497568\n",
      "After split / roc_auc_score (without extra features) 0.6966016616486942\n",
      "(with predict_proba) 0.8592956252494725\n",
      "After split / roc_auc_score (without extra features) 0.7719256829698732\n",
      "(with predict_proba) 0.9053394201343719\n"
     ]
    }
   ],
   "source": [
    "# 3.5 Note, we considered several variations here: \n",
    "# - dropna vs. fillna \n",
    "# - hinge loss vs. log_loss\n",
    "# - predict vs. predict_proba\n",
    "# Other small variations were taken into account!\n",
    "\n",
    "# These are all the combinations of different things you could have done!\n",
    "for loss_v, merged_df_, df_type in zip(\n",
    "        [\"hinge\", \"hinge\", \"log_loss\", \"log_loss\"],\n",
    "        [merged_df.fillna(\"\"), merged_df.dropna(), merged_df.fillna(\"\"), merged_df.dropna()],\n",
    "        [\"fillna\", \"dropna\", \"fillna\", \"dropna\"]\n",
    "):\n",
    "    print(\"\\nloss\", loss_v, \"/ df_type:\", df_type)\n",
    "    \n",
    "    # SOLUTION 1: Using the TFIDF before the split, wrong but we accepted it, because instructions were confusing\n",
    "    vectorizer = TfidfVectorizer( max_features=150, stop_words=\"english\")\n",
    "    X = vectorizer.fit_transform(merged_df_.TXT_PROCESSED.values).toarray()\n",
    "    X2 = np.hstack((X, merged_df_[[\"PP\", \"NN\", \"PN\", \"N\", \"P\"]].values))\n",
    "    y =  (merged_df_.VOT == 1).values.astype(int)\n",
    "\n",
    "    X_train, X_test, y_train, y_test = train_test_split(X, y, test_size=0.1, random_state=42)\n",
    "    clf = SGDClassifier(random_state=0, loss=loss_v).fit(X_train, y_train)\n",
    "    y_pred = clf.predict(X_test)\n",
    "    print(\"Before split / roc_auc_score (without extra features)\", roc_auc_score(y_test, y_pred))\n",
    "    if loss_v != \"hinge\":\n",
    "        y_pred = clf.predict_proba(X_test)[:,1]\n",
    "        print(\"(with predict_proba)\", roc_auc_score(y_test, y_pred))\n",
    "\n",
    "    \n",
    "    X_train, X_test, y_train, y_test = train_test_split(X2, y, test_size=0.1, random_state=42)\n",
    "    clf = SGDClassifier(random_state=0, loss=loss_v).fit(X_train, y_train)\n",
    "    y_pred = clf.predict(X_test)\n",
    "    print(\"Before split / roc_auc_score  (with extra features)\", roc_auc_score(y_test, y_pred))\n",
    "    if loss_v != \"hinge\":\n",
    "        y_pred = clf.predict_proba(X_test)[:,1]\n",
    "        print(\"(with predict_proba)\", roc_auc_score(y_test, y_pred))\n",
    "\n",
    "        #SOLUTION 2: Using the TFIDF after the split\n",
    "    X_train, X_test, _, _ = train_test_split(merged_df_[\"TXT_PROCESSED\"].values, \n",
    "                                                        y, test_size=0.1, random_state=42)\n",
    "    X_train = vectorizer.fit_transform(X_train).toarray()\n",
    "    X_test = vectorizer.transform(X_test).toarray()\n",
    "    clf = SGDClassifier(random_state=0, loss=loss_v).fit(X_train, y_train)\n",
    "    y_pred = clf.predict(X_test)\n",
    "    print(\"After split / roc_auc_score (without extra features)\", roc_auc_score(y_test, y_pred))\n",
    "    if loss_v != \"hinge\":\n",
    "        y_pred = clf.predict_proba(X_test)[:,1]\n",
    "        print(\"(with predict_proba)\", roc_auc_score(y_test, y_pred))\n",
    "        \n",
    "    X2_train, X2_test, _, _ = train_test_split(merged_df_[[\"PP\", \"NN\", \"PN\", \"N\", \"P\"]].values,\n",
    "                                                        y, test_size=0.1, random_state=42)\n",
    "\n",
    "    X_train = np.hstack((X_train, X2_train))\n",
    "    X_test = np.hstack((X_test, X2_test))\n",
    "\n",
    "    clf = SGDClassifier(random_state=0, loss=loss_v).fit(X_train, y_train)\n",
    "    y_pred = clf.predict(X_test)\n",
    "    print(\"After split / roc_auc_score (without extra features)\", roc_auc_score(y_test, y_pred))\n",
    "    if loss_v != \"hinge\":\n",
    "        y_pred = clf.predict_proba(X_test)[:,1]\n",
    "        print(\"(with predict_proba)\", roc_auc_score(y_test, y_pred))"
   ]
  },
  {
   "cell_type": "markdown",
   "id": "898cbdd1",
   "metadata": {},
   "source": [
    "**3.6** **/Discuss:**/  According to the results in task **3.5**, does information from the graph help in the task of predicting the vote even when using the text?  What kind of subsequent analysis would make you trust that the results are not obtained simply by chance? (No need to actually perform that subsequent analysis here.) "
   ]
  },
  {
   "cell_type": "markdown",
   "id": "6b6767ad",
   "metadata": {},
   "source": [
    "**A3.6** *YOUR ANSWER HERE*"
   ]
  },
  {
   "cell_type": "markdown",
   "id": "7f51071d",
   "metadata": {},
   "source": [
    "**3.7** Putting on your observational studies hat, run two logistic regressions using `statsmodels`.\n",
    "- In the first regression, the vote is the outcome, and `PP`, `NN` and `PN` are the predictors.\n",
    "- In the second regression, the vote is the outcome, and `PP`, `NN`, `PN`, and `N` are the predictors."
   ]
  },
  {
   "cell_type": "code",
   "execution_count": 19,
   "id": "9f8df411",
   "metadata": {},
   "outputs": [],
   "source": [
    "# 3.7"
   ]
  },
  {
   "cell_type": "markdown",
   "id": "db15d090",
   "metadata": {},
   "source": [
    "**3.8** **/Discuss:**/   Explain what the coefficient associated with `PP` means in the first regression. Is it in accordance with structural balance theory?"
   ]
  },
  {
   "cell_type": "markdown",
   "id": "48845787",
   "metadata": {},
   "source": [
    "**A3.8** *YOUR ANSWER HERE*"
   ]
  },
  {
   "cell_type": "markdown",
   "id": "49752dbb",
   "metadata": {},
   "source": [
    "**3.9** **/Discuss:**/   Compare the coefficients associated with `PN` and `NN` in the first vs. the second regression. Present a reason that may explain this difference."
   ]
  },
  {
   "cell_type": "markdown",
   "id": "8ab7612b",
   "metadata": {},
   "source": [
    "**A3.9**  *YOUR ANSWER HERE*"
   ]
  },
  {
   "cell_type": "markdown",
   "id": "207c9147",
   "metadata": {},
   "source": [
    "---"
   ]
  }
 ],
 "metadata": {
  "kernelspec": {
   "display_name": "ada",
   "language": "python",
   "name": "python3"
  },
  "language_info": {
   "codemirror_mode": {
    "name": "ipython",
    "version": 3
   },
   "file_extension": ".py",
   "mimetype": "text/x-python",
   "name": "python",
   "nbconvert_exporter": "python",
   "pygments_lexer": "ipython3",
   "version": "3.12.8"
  }
 },
 "nbformat": 4,
 "nbformat_minor": 5
}
