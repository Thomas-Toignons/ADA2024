{
 "cells": [
  {
   "cell_type": "markdown",
   "metadata": {},
   "source": [
    "# ADA final exam (Fall 2024)"
   ]
  },
  {
   "cell_type": "markdown",
   "metadata": {},
   "source": [
    "This exam consists of 2 tasks. The two tasks are independent of each other. You can solve them in any order."
   ]
  },
  {
   "cell_type": "markdown",
   "metadata": {},
   "source": [
    "## Task 1: Natural Language Processing (50 pts)\n",
    "This part of the exam will analyze a real-world negotiation dataset:\n",
    "\n",
    "Two participants take the role of campsite neighbors and negotiate for Food, Water, and Firewood packages, based on their individual preferences and requirements. This design keeps the task tractable, while still facilitating linguistically rich and personal conversations.\n",
    "\n",
    "At the end of each negotiation, both negotiators receive an outcome score (`outcome`) reflecting their success in achieving their goals. The dataset is divided into two data frames:\n",
    "\n",
    "1. `df_negotiations`, with columns:\n",
    "    - `negotiation_id`: the negotiation identifier\n",
    "    - `agent`: the agent active in that turn, either `mt_agent_1` or `mt_agent_2` (first and second to interact)\n",
    "    - `message`: the message sent to the other agent\n",
    "    - `turn`: the negotiation turn\n",
    "2. `df_meta`, meta information for each negotiation with the outcome and agent background:\n",
    "    - `gender`: (male, female, other)\n",
    "    - `age`: integer\n",
    "    - `outcome`: integer\n",
    "\n",
    "We are interested in finding out: what makes a good (/bad) negotiator?"
   ]
  },
  {
   "cell_type": "markdown",
   "metadata": {},
   "source": [
    "### Part 1: Coding Questions (29 pt)"
   ]
  },
  {
   "cell_type": "code",
   "execution_count": 1,
   "metadata": {},
   "outputs": [
    {
     "data": {
      "text/html": [
       "<div>\n",
       "<style scoped>\n",
       "    .dataframe tbody tr th:only-of-type {\n",
       "        vertical-align: middle;\n",
       "    }\n",
       "\n",
       "    .dataframe tbody tr th {\n",
       "        vertical-align: top;\n",
       "    }\n",
       "\n",
       "    .dataframe thead th {\n",
       "        text-align: right;\n",
       "    }\n",
       "</style>\n",
       "<table border=\"1\" class=\"dataframe\">\n",
       "  <thead>\n",
       "    <tr style=\"text-align: right;\">\n",
       "      <th></th>\n",
       "      <th>agent</th>\n",
       "      <th>message</th>\n",
       "      <th>negotiation_id</th>\n",
       "      <th>turn</th>\n",
       "    </tr>\n",
       "  </thead>\n",
       "  <tbody>\n",
       "    <tr>\n",
       "      <th>0</th>\n",
       "      <td>mturk_agent_1</td>\n",
       "      <td>Hello! 🙂 Let's work together on a deal for the...</td>\n",
       "      <td>0</td>\n",
       "      <td>0</td>\n",
       "    </tr>\n",
       "    <tr>\n",
       "      <th>1</th>\n",
       "      <td>mturk_agent_2</td>\n",
       "      <td>Hey! I'd like some more firewood to keep my do...</td>\n",
       "      <td>0</td>\n",
       "      <td>0</td>\n",
       "    </tr>\n",
       "    <tr>\n",
       "      <th>2</th>\n",
       "      <td>mturk_agent_1</td>\n",
       "      <td>I need firewood as well. We have a large group...</td>\n",
       "      <td>0</td>\n",
       "      <td>1</td>\n",
       "    </tr>\n",
       "    <tr>\n",
       "      <th>3</th>\n",
       "      <td>mturk_agent_2</td>\n",
       "      <td>I see. 😮 What are you least interested in?</td>\n",
       "      <td>0</td>\n",
       "      <td>1</td>\n",
       "    </tr>\n",
       "    <tr>\n",
       "      <th>4</th>\n",
       "      <td>mturk_agent_1</td>\n",
       "      <td>We can make do without extra water. Can we tra...</td>\n",
       "      <td>0</td>\n",
       "      <td>2</td>\n",
       "    </tr>\n",
       "  </tbody>\n",
       "</table>\n",
       "</div>"
      ],
      "text/plain": [
       "           agent                                            message  \\\n",
       "0  mturk_agent_1  Hello! 🙂 Let's work together on a deal for the...   \n",
       "1  mturk_agent_2  Hey! I'd like some more firewood to keep my do...   \n",
       "2  mturk_agent_1  I need firewood as well. We have a large group...   \n",
       "3  mturk_agent_2         I see. 😮 What are you least interested in?   \n",
       "4  mturk_agent_1  We can make do without extra water. Can we tra...   \n",
       "\n",
       "   negotiation_id  turn  \n",
       "0               0     0  \n",
       "1               0     0  \n",
       "2               0     1  \n",
       "3               0     1  \n",
       "4               0     2  "
      ]
     },
     "execution_count": 1,
     "metadata": {},
     "output_type": "execute_result"
    }
   ],
   "source": [
    "import pandas as pd\n",
    "\n",
    "df_negotiations = pd.read_csv('negotiations.csv')\n",
    "df_negotiations.head()"
   ]
  },
  {
   "cell_type": "code",
   "execution_count": 2,
   "metadata": {},
   "outputs": [
    {
     "data": {
      "text/html": [
       "<div>\n",
       "<style scoped>\n",
       "    .dataframe tbody tr th:only-of-type {\n",
       "        vertical-align: middle;\n",
       "    }\n",
       "\n",
       "    .dataframe tbody tr th {\n",
       "        vertical-align: top;\n",
       "    }\n",
       "\n",
       "    .dataframe thead th {\n",
       "        text-align: right;\n",
       "    }\n",
       "</style>\n",
       "<table border=\"1\" class=\"dataframe\">\n",
       "  <thead>\n",
       "    <tr style=\"text-align: right;\">\n",
       "      <th></th>\n",
       "      <th>agent</th>\n",
       "      <th>age</th>\n",
       "      <th>gender</th>\n",
       "      <th>negotiation_id</th>\n",
       "      <th>outcome</th>\n",
       "    </tr>\n",
       "  </thead>\n",
       "  <tbody>\n",
       "    <tr>\n",
       "      <th>0</th>\n",
       "      <td>mturk_agent_1</td>\n",
       "      <td>31</td>\n",
       "      <td>female</td>\n",
       "      <td>797</td>\n",
       "      <td>21</td>\n",
       "    </tr>\n",
       "    <tr>\n",
       "      <th>1</th>\n",
       "      <td>mturk_agent_2</td>\n",
       "      <td>26</td>\n",
       "      <td>male</td>\n",
       "      <td>797</td>\n",
       "      <td>15</td>\n",
       "    </tr>\n",
       "    <tr>\n",
       "      <th>2</th>\n",
       "      <td>mturk_agent_1</td>\n",
       "      <td>65</td>\n",
       "      <td>male</td>\n",
       "      <td>909</td>\n",
       "      <td>18</td>\n",
       "    </tr>\n",
       "    <tr>\n",
       "      <th>3</th>\n",
       "      <td>mturk_agent_2</td>\n",
       "      <td>34</td>\n",
       "      <td>female</td>\n",
       "      <td>909</td>\n",
       "      <td>23</td>\n",
       "    </tr>\n",
       "    <tr>\n",
       "      <th>4</th>\n",
       "      <td>mturk_agent_1</td>\n",
       "      <td>26</td>\n",
       "      <td>male</td>\n",
       "      <td>135</td>\n",
       "      <td>26</td>\n",
       "    </tr>\n",
       "  </tbody>\n",
       "</table>\n",
       "</div>"
      ],
      "text/plain": [
       "           agent  age  gender  negotiation_id  outcome\n",
       "0  mturk_agent_1   31  female             797       21\n",
       "1  mturk_agent_2   26    male             797       15\n",
       "2  mturk_agent_1   65    male             909       18\n",
       "3  mturk_agent_2   34  female             909       23\n",
       "4  mturk_agent_1   26    male             135       26"
      ]
     },
     "execution_count": 2,
     "metadata": {},
     "output_type": "execute_result"
    }
   ],
   "source": [
    "df_meta = pd.read_csv('negotiations_meta.csv')\n",
    "df_meta.head()"
   ]
  },
  {
   "cell_type": "markdown",
   "metadata": {},
   "source": [
    "**1.1 (2 pt)**\n",
    "/Discussion:/ We are interested in analyzing negotiation outcomes by analyzing language usage. In order to use TF-IDF to accomplish this, we will treat all turns from one negotiator in a single negotiation as a \"document\". Why would this definition of \"document\" be preferred over the following two alternatives? Give at least one argument per alternative.\n",
    "\n",
    "- A) Each individual turn is a document\n",
    "- B) The entire negotiation dialogue of both negotiators is a document"
   ]
  },
  {
   "cell_type": "markdown",
   "metadata": {},
   "source": [
    "**Answer**: "
   ]
  },
  {
   "cell_type": "markdown",
   "metadata": {},
   "source": [
    "**1.2 (3 pt)**\n",
    "\n",
    "[A, 1 pt] Use the negotiation dataset to create a new dataframe called `df_document` with the following columns:\n",
    "- `negotiation_id`\n",
    "- `agent`\n",
    "- `document`\n",
    "\n",
    "Here, document is defined as described in question 1.1. That is: concatonate messages into a single string and split by the special character `\"\\n\"`."
   ]
  },
  {
   "cell_type": "code",
   "execution_count": 3,
   "metadata": {},
   "outputs": [
    {
     "data": {
      "text/html": [
       "<div>\n",
       "<style scoped>\n",
       "    .dataframe tbody tr th:only-of-type {\n",
       "        vertical-align: middle;\n",
       "    }\n",
       "\n",
       "    .dataframe tbody tr th {\n",
       "        vertical-align: top;\n",
       "    }\n",
       "\n",
       "    .dataframe thead th {\n",
       "        text-align: right;\n",
       "    }\n",
       "</style>\n",
       "<table border=\"1\" class=\"dataframe\">\n",
       "  <thead>\n",
       "    <tr style=\"text-align: right;\">\n",
       "      <th></th>\n",
       "      <th>negotiation_id</th>\n",
       "      <th>agent</th>\n",
       "      <th>document</th>\n",
       "    </tr>\n",
       "  </thead>\n",
       "  <tbody>\n",
       "    <tr>\n",
       "      <th>0</th>\n",
       "      <td>0</td>\n",
       "      <td>mturk_agent_1</td>\n",
       "      <td>Hello! 🙂 Let's work together on a deal for the...</td>\n",
       "    </tr>\n",
       "    <tr>\n",
       "      <th>1</th>\n",
       "      <td>0</td>\n",
       "      <td>mturk_agent_2</td>\n",
       "      <td>Hey! I'd like some more firewood to keep my do...</td>\n",
       "    </tr>\n",
       "    <tr>\n",
       "      <th>2</th>\n",
       "      <td>1</td>\n",
       "      <td>mturk_agent_1</td>\n",
       "      <td>I am good. I am pretty excited for the trip th...</td>\n",
       "    </tr>\n",
       "    <tr>\n",
       "      <th>3</th>\n",
       "      <td>1</td>\n",
       "      <td>mturk_agent_2</td>\n",
       "      <td>Hello. How are you? \\n Very excited. It will b...</td>\n",
       "    </tr>\n",
       "    <tr>\n",
       "      <th>4</th>\n",
       "      <td>2</td>\n",
       "      <td>mturk_agent_1</td>\n",
       "      <td>Hi! How are you?! You excited for your camping...</td>\n",
       "    </tr>\n",
       "  </tbody>\n",
       "</table>\n",
       "</div>"
      ],
      "text/plain": [
       "  negotiation_id          agent  \\\n",
       "0              0  mturk_agent_1   \n",
       "1              0  mturk_agent_2   \n",
       "2              1  mturk_agent_1   \n",
       "3              1  mturk_agent_2   \n",
       "4              2  mturk_agent_1   \n",
       "\n",
       "                                            document  \n",
       "0  Hello! 🙂 Let's work together on a deal for the...  \n",
       "1  Hey! I'd like some more firewood to keep my do...  \n",
       "2  I am good. I am pretty excited for the trip th...  \n",
       "3  Hello. How are you? \\n Very excited. It will b...  \n",
       "4  Hi! How are you?! You excited for your camping...  "
      ]
     },
     "execution_count": 3,
     "metadata": {},
     "output_type": "execute_result"
    }
   ],
   "source": [
    "df_document = pd.DataFrame(columns=['negotiation_id', 'agent', 'document'])\n",
    "gp = df_negotiations.copy()\n",
    "gp['group'] = df_negotiations.groupby(['negotiation_id', 'agent'], dropna=False).ngroup()\n",
    "\n",
    "for group_id, group in gp.groupby('group'):\n",
    "    word = ''\n",
    "    tmp = {'negotiation_id':[], 'agent':[], 'document':[]}\n",
    "    for i, text in enumerate(group['message'].to_list()):\n",
    "        word += ' \\n ' + text if i!=0 else text\n",
    "    tmp['negotiation_id'] = [group['negotiation_id'].unique()[0]]\n",
    "    tmp['agent'] = [group['agent'].unique()[0]]\n",
    "    tmp['document'] = [word]\n",
    "    df_document = pd.concat([df_document, pd.DataFrame(tmp)], ignore_index=True)\n",
    "\n",
    "df_document.head()"
   ]
  },
  {
   "cell_type": "markdown",
   "metadata": {},
   "source": [
    "[B, 2pt] Next, merge this new dataframe with the `df_meta` dataframe. Print the the size and first five rows of the final dataframe"
   ]
  },
  {
   "cell_type": "code",
   "execution_count": 4,
   "metadata": {},
   "outputs": [
    {
     "data": {
      "text/html": [
       "<div>\n",
       "<style scoped>\n",
       "    .dataframe tbody tr th:only-of-type {\n",
       "        vertical-align: middle;\n",
       "    }\n",
       "\n",
       "    .dataframe tbody tr th {\n",
       "        vertical-align: top;\n",
       "    }\n",
       "\n",
       "    .dataframe thead th {\n",
       "        text-align: right;\n",
       "    }\n",
       "</style>\n",
       "<table border=\"1\" class=\"dataframe\">\n",
       "  <thead>\n",
       "    <tr style=\"text-align: right;\">\n",
       "      <th></th>\n",
       "      <th>negotiation_id</th>\n",
       "      <th>agent</th>\n",
       "      <th>document</th>\n",
       "      <th>age</th>\n",
       "      <th>gender</th>\n",
       "      <th>outcome</th>\n",
       "    </tr>\n",
       "  </thead>\n",
       "  <tbody>\n",
       "    <tr>\n",
       "      <th>0</th>\n",
       "      <td>0</td>\n",
       "      <td>mturk_agent_1</td>\n",
       "      <td>Hello! 🙂 Let's work together on a deal for the...</td>\n",
       "      <td>43</td>\n",
       "      <td>male</td>\n",
       "      <td>19</td>\n",
       "    </tr>\n",
       "    <tr>\n",
       "      <th>1</th>\n",
       "      <td>0</td>\n",
       "      <td>mturk_agent_2</td>\n",
       "      <td>Hey! I'd like some more firewood to keep my do...</td>\n",
       "      <td>22</td>\n",
       "      <td>female</td>\n",
       "      <td>18</td>\n",
       "    </tr>\n",
       "    <tr>\n",
       "      <th>2</th>\n",
       "      <td>1</td>\n",
       "      <td>mturk_agent_1</td>\n",
       "      <td>I am good. I am pretty excited for the trip th...</td>\n",
       "      <td>24</td>\n",
       "      <td>female</td>\n",
       "      <td>19</td>\n",
       "    </tr>\n",
       "    <tr>\n",
       "      <th>3</th>\n",
       "      <td>1</td>\n",
       "      <td>mturk_agent_2</td>\n",
       "      <td>Hello. How are you? \\n Very excited. It will b...</td>\n",
       "      <td>43</td>\n",
       "      <td>female</td>\n",
       "      <td>17</td>\n",
       "    </tr>\n",
       "    <tr>\n",
       "      <th>4</th>\n",
       "      <td>2</td>\n",
       "      <td>mturk_agent_1</td>\n",
       "      <td>Hi! How are you?! You excited for your camping...</td>\n",
       "      <td>30</td>\n",
       "      <td>female</td>\n",
       "      <td>14</td>\n",
       "    </tr>\n",
       "  </tbody>\n",
       "</table>\n",
       "</div>"
      ],
      "text/plain": [
       "  negotiation_id          agent  \\\n",
       "0              0  mturk_agent_1   \n",
       "1              0  mturk_agent_2   \n",
       "2              1  mturk_agent_1   \n",
       "3              1  mturk_agent_2   \n",
       "4              2  mturk_agent_1   \n",
       "\n",
       "                                            document  age  gender  outcome  \n",
       "0  Hello! 🙂 Let's work together on a deal for the...   43    male       19  \n",
       "1  Hey! I'd like some more firewood to keep my do...   22  female       18  \n",
       "2  I am good. I am pretty excited for the trip th...   24  female       19  \n",
       "3  Hello. How are you? \\n Very excited. It will b...   43  female       17  \n",
       "4  Hi! How are you?! You excited for your camping...   30  female       14  "
      ]
     },
     "execution_count": 4,
     "metadata": {},
     "output_type": "execute_result"
    }
   ],
   "source": [
    "df_document = pd.merge(left=df_document, right=df_meta, on=['negotiation_id', 'agent'])\n",
    "df_document.head()"
   ]
  },
  {
   "cell_type": "markdown",
   "metadata": {},
   "source": [
    "**1.3 (7 pt)**\n",
    "We would like to analyze the difference between \"best\" and \"worst\" performers based on `outcome`, top and bottom 10% respectively.\n",
    "\n",
    "[A, 2 pt] Find the top and bottom 10% thresholds for the `outcome` columns and print them."
   ]
  },
  {
   "cell_type": "code",
   "execution_count": 5,
   "metadata": {},
   "outputs": [
    {
     "name": "stdout",
     "output_type": "stream",
     "text": [
      "The threshold for the first 10% is 23 of outcome\n",
      "The threshold for the last 10% is 15 of outcome\n"
     ]
    },
    {
     "data": {
      "text/plain": [
       "array([[<AxesSubplot: title={'center': 'outcome'}>]], dtype=object)"
      ]
     },
     "execution_count": 5,
     "metadata": {},
     "output_type": "execute_result"
    },
    {
     "data": {
      "image/png": "[encoded data removed]",
      "text/plain": [
       "<Figure size 640x480 with 1 Axes>"
      ]
     },
     "metadata": {},
     "output_type": "display_data"
    }
   ],
   "source": [
    "top = df_document.nlargest(int(df_document.shape[0]*0.1), columns='outcome')['outcome'].iloc[-1]\n",
    "print(f\"The threshold for the first 10% is {top} of outcome\")\n",
    "\n",
    "bot = df_document.nsmallest(int(df_document.shape[0]*0.1), columns='outcome')['outcome'].iloc[-1]\n",
    "print(f\"The threshold for the last 10% is {bot} of outcome\")\n",
    "\n",
    "df_document.hist(column='outcome')"
   ]
  },
  {
   "cell_type": "markdown",
   "metadata": {},
   "source": [
    "[B, 1pt] Create a TF-IDF matrix using the `TfidfVectorizer` form `sklearn`, setting `max_features=100` and `stop_words=\"english\"`. Print the resulting TF-IDF matrix shape."
   ]
  },
  {
   "cell_type": "code",
   "execution_count": 6,
   "metadata": {},
   "outputs": [
    {
     "name": "stdout",
     "output_type": "stream",
     "text": [
      "(2056, 100)\n"
     ]
    }
   ],
   "source": [
    "from sklearn.feature_extraction.text import TfidfVectorizer\n",
    "vectorizer = TfidfVectorizer(max_features=100, stop_words='english')\n",
    "X = vectorizer.fit_transform(df_document[\"document\"]).toarray()\n",
    "print(X.shape)"
   ]
  },
  {
   "cell_type": "markdown",
   "metadata": {},
   "source": [
    "[C, 4pt] Use your thresholds and the TF-IDF matrix to print the top 10 terms for each type of negotiatior (i.e., the best and worst performing negotiators from question 1.3.A)."
   ]
  },
  {
   "cell_type": "code",
   "execution_count": null,
   "metadata": {},
   "outputs": [],
   "source": []
  },
  {
   "cell_type": "markdown",
   "metadata": {},
   "source": [
    "**1.4 (8 pt)**\n",
    "You never get a second chance at a first impression! Let's investigate if the same goes for negotiations...\n",
    "\n",
    "[A, 1pt] Create a new df_document that only takes into account the first three (3) turns of each negotiator in a negotiation. Again, merge on the df_meta dataframe and print the resulting size."
   ]
  },
  {
   "cell_type": "code",
   "execution_count": 7,
   "metadata": {},
   "outputs": [
    {
     "data": {
      "text/html": [
       "<div>\n",
       "<style scoped>\n",
       "    .dataframe tbody tr th:only-of-type {\n",
       "        vertical-align: middle;\n",
       "    }\n",
       "\n",
       "    .dataframe tbody tr th {\n",
       "        vertical-align: top;\n",
       "    }\n",
       "\n",
       "    .dataframe thead th {\n",
       "        text-align: right;\n",
       "    }\n",
       "</style>\n",
       "<table border=\"1\" class=\"dataframe\">\n",
       "  <thead>\n",
       "    <tr style=\"text-align: right;\">\n",
       "      <th></th>\n",
       "      <th>negotiation_id</th>\n",
       "      <th>agent</th>\n",
       "      <th>document</th>\n",
       "      <th>age</th>\n",
       "      <th>gender</th>\n",
       "      <th>outcome</th>\n",
       "    </tr>\n",
       "  </thead>\n",
       "  <tbody>\n",
       "    <tr>\n",
       "      <th>0</th>\n",
       "      <td>0</td>\n",
       "      <td>mturk_agent_1</td>\n",
       "      <td>Hello! 🙂 Let's work together on a deal for the...</td>\n",
       "      <td>43</td>\n",
       "      <td>male</td>\n",
       "      <td>19</td>\n",
       "    </tr>\n",
       "    <tr>\n",
       "      <th>1</th>\n",
       "      <td>0</td>\n",
       "      <td>mturk_agent_2</td>\n",
       "      <td>Hey! I'd like some more firewood to keep my do...</td>\n",
       "      <td>22</td>\n",
       "      <td>female</td>\n",
       "      <td>18</td>\n",
       "    </tr>\n",
       "    <tr>\n",
       "      <th>2</th>\n",
       "      <td>1</td>\n",
       "      <td>mturk_agent_1</td>\n",
       "      <td>I am good. I am pretty excited for the trip th...</td>\n",
       "      <td>24</td>\n",
       "      <td>female</td>\n",
       "      <td>19</td>\n",
       "    </tr>\n",
       "    <tr>\n",
       "      <th>3</th>\n",
       "      <td>1</td>\n",
       "      <td>mturk_agent_2</td>\n",
       "      <td>Hello. How are you? \\n Very excited. It will b...</td>\n",
       "      <td>43</td>\n",
       "      <td>female</td>\n",
       "      <td>17</td>\n",
       "    </tr>\n",
       "    <tr>\n",
       "      <th>4</th>\n",
       "      <td>2</td>\n",
       "      <td>mturk_agent_1</td>\n",
       "      <td>Hi! How are you?! You excited for your camping...</td>\n",
       "      <td>30</td>\n",
       "      <td>female</td>\n",
       "      <td>14</td>\n",
       "    </tr>\n",
       "  </tbody>\n",
       "</table>\n",
       "</div>"
      ],
      "text/plain": [
       "  negotiation_id          agent  \\\n",
       "0              0  mturk_agent_1   \n",
       "1              0  mturk_agent_2   \n",
       "2              1  mturk_agent_1   \n",
       "3              1  mturk_agent_2   \n",
       "4              2  mturk_agent_1   \n",
       "\n",
       "                                            document  age  gender  outcome  \n",
       "0  Hello! 🙂 Let's work together on a deal for the...   43    male       19  \n",
       "1  Hey! I'd like some more firewood to keep my do...   22  female       18  \n",
       "2  I am good. I am pretty excited for the trip th...   24  female       19  \n",
       "3  Hello. How are you? \\n Very excited. It will b...   43  female       17  \n",
       "4  Hi! How are you?! You excited for your camping...   30  female       14  "
      ]
     },
     "execution_count": 7,
     "metadata": {},
     "output_type": "execute_result"
    }
   ],
   "source": [
    "df_document2 = pd.DataFrame(columns=['negotiation_id', 'agent', 'document'])\n",
    "gp2 = df_negotiations.copy()\n",
    "gp2['group'] = df_negotiations.groupby(['negotiation_id', 'agent'], dropna=False).ngroup()\n",
    "\n",
    "for group_id, group in gp2.groupby('group'):\n",
    "    word = ''\n",
    "    tmp = {'negotiation_id':[], 'agent':[], 'document':[]}\n",
    "    for i, text in enumerate(group['message'].to_list()[:3]):\n",
    "        word += ' \\n ' + text if i!=0 else text\n",
    "\n",
    "    tmp['negotiation_id'] = [group['negotiation_id'].unique()[0]]\n",
    "    tmp['agent'] = [group['agent'].unique()[0]]\n",
    "    tmp['document'] = [word]\n",
    "    df_document2 = pd.concat([df_document2, pd.DataFrame(tmp)], ignore_index=True)\n",
    "\n",
    "df_document2 = pd.merge(left=df_document2, right=df_meta, on=['negotiation_id', 'agent'])\n",
    "df_document2.head()"
   ]
  },
  {
   "cell_type": "markdown",
   "metadata": {},
   "source": [
    "[B, 1pt] Calculate the median negotiation outcome. Then, add a column called success to the df_document dataframe that is 1 if the outcome column is more than the median and 0 otherwise. Print the median outcome."
   ]
  },
  {
   "cell_type": "code",
   "execution_count": 8,
   "metadata": {},
   "outputs": [
    {
     "name": "stdout",
     "output_type": "stream",
     "text": [
      "The median outcome is: 19.0\n"
     ]
    },
    {
     "data": {
      "text/html": [
       "<div>\n",
       "<style scoped>\n",
       "    .dataframe tbody tr th:only-of-type {\n",
       "        vertical-align: middle;\n",
       "    }\n",
       "\n",
       "    .dataframe tbody tr th {\n",
       "        vertical-align: top;\n",
       "    }\n",
       "\n",
       "    .dataframe thead th {\n",
       "        text-align: right;\n",
       "    }\n",
       "</style>\n",
       "<table border=\"1\" class=\"dataframe\">\n",
       "  <thead>\n",
       "    <tr style=\"text-align: right;\">\n",
       "      <th></th>\n",
       "      <th>negotiation_id</th>\n",
       "      <th>agent</th>\n",
       "      <th>document</th>\n",
       "      <th>age</th>\n",
       "      <th>gender</th>\n",
       "      <th>outcome</th>\n",
       "      <th>sucess</th>\n",
       "    </tr>\n",
       "  </thead>\n",
       "  <tbody>\n",
       "    <tr>\n",
       "      <th>0</th>\n",
       "      <td>0</td>\n",
       "      <td>mturk_agent_1</td>\n",
       "      <td>Hello! 🙂 Let's work together on a deal for the...</td>\n",
       "      <td>43</td>\n",
       "      <td>male</td>\n",
       "      <td>19</td>\n",
       "      <td>0</td>\n",
       "    </tr>\n",
       "    <tr>\n",
       "      <th>1</th>\n",
       "      <td>0</td>\n",
       "      <td>mturk_agent_2</td>\n",
       "      <td>Hey! I'd like some more firewood to keep my do...</td>\n",
       "      <td>22</td>\n",
       "      <td>female</td>\n",
       "      <td>18</td>\n",
       "      <td>0</td>\n",
       "    </tr>\n",
       "    <tr>\n",
       "      <th>2</th>\n",
       "      <td>1</td>\n",
       "      <td>mturk_agent_1</td>\n",
       "      <td>I am good. I am pretty excited for the trip th...</td>\n",
       "      <td>24</td>\n",
       "      <td>female</td>\n",
       "      <td>19</td>\n",
       "      <td>0</td>\n",
       "    </tr>\n",
       "    <tr>\n",
       "      <th>3</th>\n",
       "      <td>1</td>\n",
       "      <td>mturk_agent_2</td>\n",
       "      <td>Hello. How are you? \\n Very excited. It will b...</td>\n",
       "      <td>43</td>\n",
       "      <td>female</td>\n",
       "      <td>17</td>\n",
       "      <td>0</td>\n",
       "    </tr>\n",
       "    <tr>\n",
       "      <th>4</th>\n",
       "      <td>2</td>\n",
       "      <td>mturk_agent_1</td>\n",
       "      <td>Hi! How are you?! You excited for your camping...</td>\n",
       "      <td>30</td>\n",
       "      <td>female</td>\n",
       "      <td>14</td>\n",
       "      <td>0</td>\n",
       "    </tr>\n",
       "  </tbody>\n",
       "</table>\n",
       "</div>"
      ],
      "text/plain": [
       "  negotiation_id          agent  \\\n",
       "0              0  mturk_agent_1   \n",
       "1              0  mturk_agent_2   \n",
       "2              1  mturk_agent_1   \n",
       "3              1  mturk_agent_2   \n",
       "4              2  mturk_agent_1   \n",
       "\n",
       "                                            document  age  gender  outcome  \\\n",
       "0  Hello! 🙂 Let's work together on a deal for the...   43    male       19   \n",
       "1  Hey! I'd like some more firewood to keep my do...   22  female       18   \n",
       "2  I am good. I am pretty excited for the trip th...   24  female       19   \n",
       "3  Hello. How are you? \\n Very excited. It will b...   43  female       17   \n",
       "4  Hi! How are you?! You excited for your camping...   30  female       14   \n",
       "\n",
       "   sucess  \n",
       "0       0  \n",
       "1       0  \n",
       "2       0  \n",
       "3       0  \n",
       "4       0  "
      ]
     },
     "execution_count": 8,
     "metadata": {},
     "output_type": "execute_result"
    }
   ],
   "source": [
    "med = df_document2['outcome'].median()\n",
    "print(f\"The median outcome is: {med}\")\n",
    "df_document2['sucess'] = (df_document2['outcome'] > med).astype(int)\n",
    "df_document2.head()"
   ]
  },
  {
   "cell_type": "markdown",
   "metadata": {},
   "source": [
    "[C, 2pt] Create a TF-IDF matrix called `X` based on `df_document` using the following settings:\n",
    "\n",
    "`max_features=100, stop_words=\"english, ngram_range=(1, 2)`\n",
    "\n",
    "Additionally, create a variable `y` that corresponds to the success column. Finally, use `sklearn.model_selection.train_test_split` to split your data into a train and test set using parameters `test_size=0.2` and `random_state=99`.\n",
    "\n",
    "Print the shape of the TF-IDF and the shape of your train and test sets."
   ]
  },
  {
   "cell_type": "code",
   "execution_count": 9,
   "metadata": {},
   "outputs": [
    {
     "name": "stdout",
     "output_type": "stream",
     "text": [
      "Shape of the TF-IDF matrix: (2056, 100)\n",
      "Shape of the train set: (1644, 100)\n",
      "Shape of the test set: (412, 100)\n"
     ]
    }
   ],
   "source": [
    "from sklearn.model_selection import train_test_split\n",
    "\n",
    "vectorizer = TfidfVectorizer(stop_words='english', max_features=100, ngram_range=(1,2))\n",
    "X = vectorizer.fit_transform(df_document2['document']).toarray()\n",
    "y = df_document2['sucess']\n",
    "\n",
    "X_train, X_test, y_train, y_test = train_test_split(X, y, test_size=0.2, random_state=99)\n",
    "\n",
    "print(f\"Shape of the TF-IDF matrix: {X.shape}\")\n",
    "print(f\"Shape of the train set: {X_train.shape}\")\n",
    "print(f\"Shape of the test set: {X_test.shape}\")"
   ]
  },
  {
   "cell_type": "markdown",
   "metadata": {},
   "source": [
    "[D, 2pt] Use your prepared data to train a logistic regression model (`sklearn.linear_model.LogisticRegression`). Then, with the trained model predict on the test set and print a classification report (`sklearn.metrics.classification_report`)."
   ]
  },
  {
   "cell_type": "code",
   "execution_count": 10,
   "metadata": {},
   "outputs": [
    {
     "name": "stdout",
     "output_type": "stream",
     "text": [
      "              precision    recall  f1-score   support\n",
      "\n",
      "           0      0.637     0.943     0.760       264\n",
      "           1      0.286     0.041     0.071       148\n",
      "\n",
      "    accuracy                          0.619       412\n",
      "   macro avg      0.461     0.492     0.416       412\n",
      "weighted avg      0.511     0.619     0.513       412\n",
      "\n"
     ]
    }
   ],
   "source": [
    "from sklearn.metrics import classification_report\n",
    "from sklearn.linear_model import LogisticRegression\n",
    "\n",
    "clf = LogisticRegression().fit(X_train, y_train)\n",
    "y_pred = clf.predict(X_test)\n",
    "print(classification_report(y_test, y_pred, digits=3))"
   ]
  },
  {
   "cell_type": "markdown",
   "metadata": {},
   "source": [
    "[E, 2pt] Use the weights of your trained model to show which terms mostly strongly correlate with high and low outcomes. Print the best five terms for each."
   ]
  },
  {
   "cell_type": "code",
   "execution_count": null,
   "metadata": {},
   "outputs": [],
   "source": []
  },
  {
   "cell_type": "markdown",
   "metadata": {},
   "source": [
    "**1.5 (9 pt)**\n",
    "You are concerned about potential “confounding” factors for your results in the previous question. Specifically, you would like to investigate the effect of “gender” on the outcomes.\n",
    "\n",
    "[A, 3pt] Visualize the outcomes stratified by gender using a bar plot with standard deviation around the mean. Make sure you use clear x- and y-axis labels, a title, and a legend."
   ]
  },
  {
   "cell_type": "code",
   "execution_count": null,
   "metadata": {},
   "outputs": [],
   "source": []
  },
  {
   "cell_type": "markdown",
   "metadata": {},
   "source": [
    "[B, 2pt] Perform a T-Test with a confidence interval of 0.95 to check if the outcomes based on gender are statistically significantly different. Print the resulting t-statistic, the p-value, and your interpretation of the result."
   ]
  },
  {
   "cell_type": "code",
   "execution_count": null,
   "metadata": {},
   "outputs": [],
   "source": []
  },
  {
   "cell_type": "markdown",
   "metadata": {},
   "source": [
    "[C, 2pt] Finally, we would like to test if the gender distribution between high and low negotiation performers is significantly different. Please perform a chi-square test on the gender distribution of those negotiators scoring above the median outcome. Use a confidence interval of 0.95 and print the resulting chi-square statistic, p-value, and your interpretation of the result."
   ]
  },
  {
   "cell_type": "code",
   "execution_count": null,
   "metadata": {},
   "outputs": [],
   "source": []
  },
  {
   "cell_type": "markdown",
   "metadata": {},
   "source": [
    "[D, 2pt] /Discuss:/ In addition to the gender attribute, could you think of other measurable factors in this dataset that could be tested as confounders? List at least two more and explain why."
   ]
  },
  {
   "cell_type": "markdown",
   "metadata": {},
   "source": [
    "### Part 2: Insight Questions (15 pt)"
   ]
  },
  {
   "cell_type": "markdown",
   "metadata": {},
   "source": [
    "**2.1 (3pt)**\n",
    "In the context of analyzing negotiation turns, why would TF-IDF be more suitable than simple word frequency counts when trying to identify distinctive communication patterns between successful and unsuccessful negotiations?"
   ]
  },
  {
   "cell_type": "markdown",
   "metadata": {},
   "source": [
    "[your answer]"
   ]
  },
  {
   "cell_type": "markdown",
   "metadata": {},
   "source": [
    "**2.2 (2pt)**\n",
    "How would you modify the standard TF-IDF implementation to account for the temporal nature of negotiation turns? Consider that early turns might be more important for setting the tone of the negotiation than later turns."
   ]
  },
  {
   "cell_type": "markdown",
   "metadata": {},
   "source": [
    "[your answer]"
   ]
  },
  {
   "cell_type": "markdown",
   "metadata": {},
   "source": [
    "**2.3 (3 pt)**\n",
    "In our negotiation dataset, successful negotiators might simply write longer messages. How could this create a misleading interpretation of our TF-IDF results, and what would be a simple way to test for this potential bias?"
   ]
  },
  {
   "cell_type": "markdown",
   "metadata": {},
   "source": [
    "[your answer]"
   ]
  },
  {
   "cell_type": "markdown",
   "metadata": {},
   "source": [
    "**2.4 (3pt)**\n",
    "In our negotiation dataset, consider these two opening messages from different agents:\n",
    "\n",
    "Agent A: \"I propose we split the resources fairly\" Agent B: \"I suggest we divide the assets equitably\"\n",
    "\n",
    "These messages are semantically very similar but use different vocabulary. Explain:\n",
    "\n",
    "- a) How TF-IDF would process these messages differently\n",
    "- b) How word embeddings (like Word2Vec) would handle them\n",
    "- c) Why this distinction matters for negotiation analysis"
   ]
  },
  {
   "cell_type": "markdown",
   "metadata": {},
   "source": [
    "[your answer]"
   ]
  },
  {
   "cell_type": "markdown",
   "metadata": {},
   "source": [
    "**2.5 (4pt)**\n",
    "Staying in the context of negotiations, explain why N-gram models such as bigrams might be more informative than unigrams for predicting negotiation outcomes. Provide two examples of bigrams that would be particularly meaningful in negotiation contexts but would lose their significance if split into unigrams."
   ]
  },
  {
   "cell_type": "markdown",
   "metadata": {},
   "source": [
    "[your answer]"
   ]
  },
  {
   "cell_type": "code",
   "execution_count": null,
   "metadata": {},
   "outputs": [],
   "source": []
  },
  {
   "cell_type": "markdown",
   "metadata": {},
   "source": [
    "## Task 2: Analysis of Co-Author Network (50 pts)"
   ]
  },
  {
   "cell_type": "markdown",
   "metadata": {},
   "source": [
    "\n",
    "In this part, you will analyze a reserach publication dataset derived from \n",
    "[social influence analysis in large-scale networks](https://keg.cs.tsinghua.edu.cn/jietang/publications/KDD09-Tang-et-al-Social-Influence-Analysis.pdf) (the paper itself is irrelevant to this exam, don't waste time reading it).\n",
    "\n",
    "The citation data is extracted from DBLP, ACM, MAG (Microsoft Academic Graph), and other sources. Each paper is associated with abstract, authors, year, venue, and title.\n",
    "\n",
    "Dataset: [citation dataset](https://cn.aminer.org/citation)\n",
    "\n",
    "Paper: [social influence analysis in large-scale networks](https://keg.cs.tsinghua.edu.cn/jietang/publications/KDD09-Tang-et-al-Social-Influence-Analysis.pdf)\n"
   ]
  },
  {
   "cell_type": "markdown",
   "metadata": {},
   "source": [
    "### Download data from the web\n",
    "\n",
    "#### For Linux and MacOS:\n",
    "```bash\n",
    "wget https://lfs.aminer.cn/lab-datasets/citation/citation-network1.zip\n",
    "unzip citation-network1.zip\n",
    "ls -l outputacm.txt\n",
    "```\n",
    "\n",
    "#### For windows we recommend using WSL (Windows Subsystem for Linux) with above commands or directly downloading the file from the browser at \n",
    "https://lfs.aminer.cn/lab-datasets/citation\n",
    "\n"
   ]
  },
  {
   "cell_type": "code",
   "execution_count": 11,
   "metadata": {},
   "outputs": [
    {
     "name": "stdout",
     "output_type": "stream",
     "text": [
      "Dataset loaded with 629814 entries.\n",
      "colums: Index(['title', 'authors', 'year', 'venue', 'references', 'abstract'], dtype='object')\n"
     ]
    }
   ],
   "source": [
    "import numpy as np\n",
    "import pandas as pd\n",
    "import scipy as sp\n",
    "import networkx as nx\n",
    "import matplotlib.pyplot as plt\n",
    "\n",
    "from helper import load_data_as_df\n",
    "\n",
    "\n",
    "# Define the file path\n",
    "file_path = \"outputacm.txt\"\n",
    "\n",
    "# Load the data into a DataFrame\n",
    "df = load_data_as_df(file_path)\n",
    "\n",
    "# check if the index column is the same as the index \n",
    "\n",
    "print(f\"Dataset loaded with {len(df)} entries.\")\n",
    "print(f\"colums: {df.columns}\")"
   ]
  },
  {
   "cell_type": "code",
   "execution_count": 12,
   "metadata": {},
   "outputs": [
    {
     "data": {
      "text/html": [
       "<div>\n",
       "<style scoped>\n",
       "    .dataframe tbody tr th:only-of-type {\n",
       "        vertical-align: middle;\n",
       "    }\n",
       "\n",
       "    .dataframe tbody tr th {\n",
       "        vertical-align: top;\n",
       "    }\n",
       "\n",
       "    .dataframe thead th {\n",
       "        text-align: right;\n",
       "    }\n",
       "</style>\n",
       "<table border=\"1\" class=\"dataframe\">\n",
       "  <thead>\n",
       "    <tr style=\"text-align: right;\">\n",
       "      <th></th>\n",
       "      <th>title</th>\n",
       "      <th>authors</th>\n",
       "      <th>year</th>\n",
       "      <th>venue</th>\n",
       "      <th>references</th>\n",
       "      <th>abstract</th>\n",
       "    </tr>\n",
       "  </thead>\n",
       "  <tbody>\n",
       "    <tr>\n",
       "      <th>0</th>\n",
       "      <td>Automated Deduction in Geometry: 5th Internati...</td>\n",
       "      <td>[Hoon Hong, Dongming Wang]</td>\n",
       "      <td>2006.0</td>\n",
       "      <td></td>\n",
       "      <td>[]</td>\n",
       "      <td>None</td>\n",
       "    </tr>\n",
       "    <tr>\n",
       "      <th>1</th>\n",
       "      <td>A+ Certification Core Hardware (Text &amp; Lab Man...</td>\n",
       "      <td>[Charles J. Brooks]</td>\n",
       "      <td>2003.0</td>\n",
       "      <td></td>\n",
       "      <td>[]</td>\n",
       "      <td>None</td>\n",
       "    </tr>\n",
       "    <tr>\n",
       "      <th>2</th>\n",
       "      <td>Performance engineering in industry: current p...</td>\n",
       "      <td>[Ahmed E. Hassan, Parminder Flora]</td>\n",
       "      <td>2007.0</td>\n",
       "      <td>Proceedings of the 6th international workshop ...</td>\n",
       "      <td>[]</td>\n",
       "      <td>This panel session discusses performance engin...</td>\n",
       "    </tr>\n",
       "    <tr>\n",
       "      <th>3</th>\n",
       "      <td>Dude, You Can Do It! How to Build a Sweeet PC</td>\n",
       "      <td>[Darrel Creacy, Carlito Vicencio]</td>\n",
       "      <td>2005.0</td>\n",
       "      <td></td>\n",
       "      <td>[]</td>\n",
       "      <td>Whether you're frustrated with current PC offe...</td>\n",
       "    </tr>\n",
       "    <tr>\n",
       "      <th>4</th>\n",
       "      <td>What Every Programmer Needs to Know about Secu...</td>\n",
       "      <td>[Neil Daswani, Anita Kesavan]</td>\n",
       "      <td>2006.0</td>\n",
       "      <td></td>\n",
       "      <td>[]</td>\n",
       "      <td>None</td>\n",
       "    </tr>\n",
       "    <tr>\n",
       "      <th>5</th>\n",
       "      <td>Interpreting Kullback-Leibler divergence with ...</td>\n",
       "      <td>[Shinto Eguchi, John Copas]</td>\n",
       "      <td>2006.0</td>\n",
       "      <td>Journal of Multivariate Analysis</td>\n",
       "      <td>[436405]</td>\n",
       "      <td>Kullback-Leibler divergence and the Neyman-Pea...</td>\n",
       "    </tr>\n",
       "    <tr>\n",
       "      <th>6</th>\n",
       "      <td>Digital Media: Transformations in Human Commun...</td>\n",
       "      <td>[Lee Humphreys, Paul Messaris]</td>\n",
       "      <td>2006.0</td>\n",
       "      <td></td>\n",
       "      <td>[]</td>\n",
       "      <td>None</td>\n",
       "    </tr>\n",
       "    <tr>\n",
       "      <th>7</th>\n",
       "      <td>TOPP---the OpenMS proteomics pipeline</td>\n",
       "      <td>[Oliver Kohlbacher, Knut Reinert, Clemens Gröp...</td>\n",
       "      <td>2007.0</td>\n",
       "      <td>Bioinformatics</td>\n",
       "      <td>[]</td>\n",
       "      <td>Motivation: Experimental techniques in proteom...</td>\n",
       "    </tr>\n",
       "    <tr>\n",
       "      <th>8</th>\n",
       "      <td>Type Graphics and MacIntosh</td>\n",
       "      <td>[John Blaint]</td>\n",
       "      <td>1987.0</td>\n",
       "      <td></td>\n",
       "      <td>[]</td>\n",
       "      <td>None</td>\n",
       "    </tr>\n",
       "    <tr>\n",
       "      <th>9</th>\n",
       "      <td>Adaptive Hypermedia and Adaptive Web-Based Sys...</td>\n",
       "      <td>[Vincent Wade, Helen Ashman, Barry Smyth]</td>\n",
       "      <td>2006.0</td>\n",
       "      <td></td>\n",
       "      <td>[]</td>\n",
       "      <td>None</td>\n",
       "    </tr>\n",
       "  </tbody>\n",
       "</table>\n",
       "</div>"
      ],
      "text/plain": [
       "                                               title  \\\n",
       "0  Automated Deduction in Geometry: 5th Internati...   \n",
       "1  A+ Certification Core Hardware (Text & Lab Man...   \n",
       "2  Performance engineering in industry: current p...   \n",
       "3      Dude, You Can Do It! How to Build a Sweeet PC   \n",
       "4  What Every Programmer Needs to Know about Secu...   \n",
       "5  Interpreting Kullback-Leibler divergence with ...   \n",
       "6  Digital Media: Transformations in Human Commun...   \n",
       "7              TOPP---the OpenMS proteomics pipeline   \n",
       "8                        Type Graphics and MacIntosh   \n",
       "9  Adaptive Hypermedia and Adaptive Web-Based Sys...   \n",
       "\n",
       "                                             authors    year  \\\n",
       "0                         [Hoon Hong, Dongming Wang]  2006.0   \n",
       "1                                [Charles J. Brooks]  2003.0   \n",
       "2                 [Ahmed E. Hassan, Parminder Flora]  2007.0   \n",
       "3                  [Darrel Creacy, Carlito Vicencio]  2005.0   \n",
       "4                      [Neil Daswani, Anita Kesavan]  2006.0   \n",
       "5                        [Shinto Eguchi, John Copas]  2006.0   \n",
       "6                     [Lee Humphreys, Paul Messaris]  2006.0   \n",
       "7  [Oliver Kohlbacher, Knut Reinert, Clemens Gröp...  2007.0   \n",
       "8                                      [John Blaint]  1987.0   \n",
       "9          [Vincent Wade, Helen Ashman, Barry Smyth]  2006.0   \n",
       "\n",
       "                                               venue references  \\\n",
       "0                                                            []   \n",
       "1                                                            []   \n",
       "2  Proceedings of the 6th international workshop ...         []   \n",
       "3                                                            []   \n",
       "4                                                            []   \n",
       "5                   Journal of Multivariate Analysis   [436405]   \n",
       "6                                                            []   \n",
       "7                                     Bioinformatics         []   \n",
       "8                                                            []   \n",
       "9                                                            []   \n",
       "\n",
       "                                            abstract  \n",
       "0                                               None  \n",
       "1                                               None  \n",
       "2  This panel session discusses performance engin...  \n",
       "3  Whether you're frustrated with current PC offe...  \n",
       "4                                               None  \n",
       "5  Kullback-Leibler divergence and the Neyman-Pea...  \n",
       "6                                               None  \n",
       "7  Motivation: Experimental techniques in proteom...  \n",
       "8                                               None  \n",
       "9                                               None  "
      ]
     },
     "execution_count": 12,
     "metadata": {},
     "output_type": "execute_result"
    }
   ],
   "source": [
    "df.head(10)"
   ]
  },
  {
   "cell_type": "markdown",
   "metadata": {},
   "source": [
    "**3.1 (6 pts)**: Analyze Papers Published Per Year\n",
    "\n",
    "**Objective:**  \n",
    "Analyze and visualize publication trends to understand how the research field has evolved over time.\n",
    "\n",
    "#### Instructions:\n",
    "1. Group the data by the year of publication and count the number of papers for each year (2 pts).\n",
    "2. Plot a bar chart showing the number of papers published per year from **1990 to 2010**. (2 pts)\n",
    "3. Focus on the pattern between **1996 and 2004**:\n",
    "   - **Discuss:** Describe any notable trends or changes in the number of publications during this period. (2 pts)\n",
    "   - **Bonus:** Hypothesize potential reasons for the observed pattern.  (2 pts)\n",
    "     *Hint: Consider events or trends related to the dataset's focus on computer science.* \n"
   ]
  },
  {
   "cell_type": "code",
   "execution_count": 13,
   "metadata": {},
   "outputs": [
    {
     "data": {
      "text/html": [
       "<div>\n",
       "<style scoped>\n",
       "    .dataframe tbody tr th:only-of-type {\n",
       "        vertical-align: middle;\n",
       "    }\n",
       "\n",
       "    .dataframe tbody tr th {\n",
       "        vertical-align: top;\n",
       "    }\n",
       "\n",
       "    .dataframe thead th {\n",
       "        text-align: right;\n",
       "    }\n",
       "</style>\n",
       "<table border=\"1\" class=\"dataframe\">\n",
       "  <thead>\n",
       "    <tr style=\"text-align: right;\">\n",
       "      <th></th>\n",
       "      <th>title</th>\n",
       "    </tr>\n",
       "    <tr>\n",
       "      <th>year</th>\n",
       "      <th></th>\n",
       "    </tr>\n",
       "  </thead>\n",
       "  <tbody>\n",
       "    <tr>\n",
       "      <th>1900.0</th>\n",
       "      <td>1</td>\n",
       "    </tr>\n",
       "    <tr>\n",
       "      <th>1941.0</th>\n",
       "      <td>1</td>\n",
       "    </tr>\n",
       "    <tr>\n",
       "      <th>1947.0</th>\n",
       "      <td>1</td>\n",
       "    </tr>\n",
       "    <tr>\n",
       "      <th>1949.0</th>\n",
       "      <td>1</td>\n",
       "    </tr>\n",
       "    <tr>\n",
       "      <th>1950.0</th>\n",
       "      <td>2</td>\n",
       "    </tr>\n",
       "  </tbody>\n",
       "</table>\n",
       "</div>"
      ],
      "text/plain": [
       "        title\n",
       "year         \n",
       "1900.0      1\n",
       "1941.0      1\n",
       "1947.0      1\n",
       "1949.0      1\n",
       "1950.0      2"
      ]
     },
     "execution_count": 13,
     "metadata": {},
     "output_type": "execute_result"
    }
   ],
   "source": [
    "# 1\n",
    "tmp = df.groupby(\"year\").count()[['title']]\n",
    "tmp.head()"
   ]
  },
  {
   "cell_type": "code",
   "execution_count": 14,
   "metadata": {},
   "outputs": [
    {
     "data": {
      "image/png": "[encoded data removed]",
      "text/plain": [
       "<Figure size 640x480 with 1 Axes>"
      ]
     },
     "metadata": {},
     "output_type": "display_data"
    }
   ],
   "source": [
    "# 2\n",
    "tmp.query('year >= 1990 & year <=2010').plot(kind='bar')\n",
    "plt.ylabel(\"Number of articles\")\n",
    "plt.show()"
   ]
  },
  {
   "cell_type": "code",
   "execution_count": 15,
   "metadata": {},
   "outputs": [
    {
     "data": {
      "image/png": "[encoded data removed]",
      "text/plain": [
       "<Figure size 640x480 with 1 Axes>"
      ]
     },
     "metadata": {},
     "output_type": "display_data"
    }
   ],
   "source": [
    "# 3\n",
    "tmp.query('year >= 1996 & year <=2004').plot(kind='bar')\n",
    "plt.ylabel(\"Number of articles\")\n",
    "plt.show()"
   ]
  },
  {
   "cell_type": "markdown",
   "metadata": {},
   "source": [
    "**Answer**: The data looks a bit like a Gaussian with a peak of publications in the 2000's"
   ]
  },
  {
   "cell_type": "markdown",
   "metadata": {},
   "source": [
    "**3.2 (4 pts)**: Authors Per Paper Analysis\n",
    "\n",
    "With the rise of interdisciplinary research, multi-authored papers are becoming more common. This task will help us understand collaboration dynamics in the academic world.\n",
    "\n",
    "#### Instructions:\n",
    "- Get the number of authors for each paper and calculate the percentage of papers with four or more authors. (2 pts)\n",
    "- Plot a histogram to show the frequency distribution of the number of authors per paper (2 pts)(choose `bins=range(0, 30)` and set y-axis to log scale)."
   ]
  },
  {
   "cell_type": "code",
   "execution_count": 16,
   "metadata": {},
   "outputs": [
    {
     "name": "stdout",
     "output_type": "stream",
     "text": [
      "Total number of authors: 1311929\n",
      "There are 6.32% publications with four authors or more\n"
     ]
    },
    {
     "data": {
      "image/png": "[encoded data removed]",
      "text/plain": [
       "<Figure size 640x480 with 1 Axes>"
      ]
     },
     "metadata": {},
     "output_type": "display_data"
    }
   ],
   "source": [
    "df['authors_per_pub'] = df['authors'].apply(lambda x: len(x) if '' not in x else 0).astype(int)\n",
    "total_authors = df['authors_per_pub'].sum()\n",
    "print(f\"Total number of authors: {total_authors}\")\n",
    "pub_above4 = df.query('authors_per_pub >= 4').shape[0]\n",
    "print(f\"There are {(pub_above4/total_authors)*100:.2f}% publications with four authors or more\")\n",
    "\n",
    "tmp = df.value_counts('authors_per_pub')\n",
    "#plt.hist(x= tmp.index, bins=range(0,30))\n",
    "tmp.hist(bins=range(0,30))\n",
    "plt.ylabel(\"Frequency\")\n",
    "plt.yscale('log')"
   ]
  },
  {
   "cell_type": "markdown",
   "metadata": {},
   "source": [
    "**3.3 (4 pts)**: Temporal Collaboration Trends\n",
    "\n",
    "Collaboration dynamics can change over time. This task will help us understand how collaboration trends have evolved in the academic world.\n",
    "\n",
    "#### Instructions:\n",
    "- Group the data by publication year, calculate the average number of authors per paper for each year, and create a line plot to visualize how it has changed from 1990 to 2010 (1 pt).\n",
    "- **Discuss:** There has been a hypothesis that the number of authors per paper has increased over time. Based on the plot, do you agree with this hypothesis ? (1 pt)\n",
    "- Compute the P-value of the hypothesis that the average number of authors per paper after 2000 is significantly higher than before 2000. (2 pts)"
   ]
  },
  {
   "cell_type": "code",
   "execution_count": 17,
   "metadata": {},
   "outputs": [
    {
     "data": {
      "image/png": "[encoded data removed]",
      "text/plain": [
       "<Figure size 640x480 with 1 Axes>"
      ]
     },
     "metadata": {},
     "output_type": "display_data"
    }
   ],
   "source": [
    "tmp = df.groupby('year')['authors_per_pub'].agg('mean')\n",
    "tmp.plot(kind='line', x='year')\n",
    "plt.xlim([1990, 2010])\n",
    "plt.ylabel('Average number of auhtors per publication')\n",
    "plt.show()"
   ]
  },
  {
   "cell_type": "markdown",
   "metadata": {},
   "source": [
    "**Answer**: \n",
    "Yes, the hypothesis seems right based on the plot shown above: the average number of authors per paper is globally increasing"
   ]
  },
  {
   "cell_type": "code",
   "execution_count": null,
   "metadata": {},
   "outputs": [],
   "source": []
  },
  {
   "cell_type": "markdown",
   "metadata": {},
   "source": [
    "**3.4 (6 pts)**: Build a Co-Author Network\n",
    "\n",
    "Co-author networks help us visualize and quantify collaborations in academia. Such networks are critical for identifying influential researchers and their role in fostering connections within their communities. Construct a network where nodes represent authors and edges represent collaborations.\n",
    "\n",
    "#### Instructions:\n",
    "- Create a graph where: (5 pts)\n",
    "  - Nodes: Each node represents a unique author, identified by their name in the authors field of the dataset.\n",
    "  - Edges: There is an edge between two nodes if the corresponding authors have co-authored at least one paper. The weight of the edge represents the number of papers the two authors have co-authored together.\n",
    "- After constructing the network, print the following information: (1 pt)\n",
    "  - The total number of nodes (authors) in the network.\n",
    "  - The total number of edges (collaborations) in the network.\n",
    "\n",
    "Example:\n",
    "\n",
    "For a paper authored by [\"Alice\", \"Bob\", \"Charlie\"], the graph should include:\n",
    "- Nodes: Alice, Bob, Charlie.\n",
    "- Edges: Alice-Bob, Alice-Charlie, Bob-Charlie, each with a weight of 1 (assuming no other collaborations between these pairs).\n"
   ]
  },
  {
   "cell_type": "code",
   "execution_count": 18,
   "metadata": {},
   "outputs": [],
   "source": [
    "df = df[df['authors_per_pub'] !=0]\n",
    "authors = df['authors'].explode().unique()"
   ]
  },
  {
   "cell_type": "code",
   "execution_count": 19,
   "metadata": {},
   "outputs": [
    {
     "name": "stdout",
     "output_type": "stream",
     "text": [
      "Graph with 595721 nodes and 0 edges\n"
     ]
    }
   ],
   "source": [
    "G = nx.Graph()\n",
    "G.add_nodes_from(authors)\n",
    "print(G)"
   ]
  },
  {
   "cell_type": "markdown",
   "metadata": {},
   "source": [
    "**3.5 (4 pts)**: Analyze the Co-Author Network\n",
    "\n",
    "Connected components in a co-author network can reveal isolated research communities or dominant research hubs. Analyzing the largest component helps us understand the core of academic collaboration\n",
    "\n",
    "#### Instructions:\n",
    "- The degree of a node is the number of edges connected to it. In the context of the co-author network, this represents the number of distinct co-authors an author has collaborated with. Compute the average degree of the network (1 pt).\n",
    "- Connectivity of the Network:\n",
    "  - A network is fully connected if there is a path between every pair of nodes. Determine if the co-author network is fully connected (2 pt). (Hint: A single answer is not enough here. You need to use a method to verify the connectivity of the network.)\n",
    "  - Can you tell how many authors are part of the largest connected component? How much does this account for the total number of authors in the network? (2 pt)\n",
    "<!-- - Compute the average clustering coefficient of the network. -->"
   ]
  },
  {
   "cell_type": "code",
   "execution_count": 20,
   "metadata": {},
   "outputs": [
    {
     "name": "stdout",
     "output_type": "stream",
     "text": [
      "Average degree: 0.00\n",
      "Graph connected ? False\n",
      "There are {'Hoon Hong'} authors in the largest connected component\n"
     ]
    }
   ],
   "source": [
    "degree = []\n",
    "for node in G.nodes:\n",
    "    deg = G.degree(node)\n",
    "    degree.append(deg)\n",
    "print(f\"Average degree: {np.mean(degree)/2:.2f}\")\n",
    "\n",
    "print(\"Graph connected ?\" ,nx.is_connected(G))\n",
    "\n",
    "largest_cc = max(nx.connected_components(G), key=len)\n",
    "print(f\"There are {largest_cc} authors in the largest connected component\")"
   ]
  },
  {
   "cell_type": "markdown",
   "metadata": {},
   "source": [
    "**3.6 (4 pts)**: Top Authors by Collaborations\n",
    "\n",
    "#### Instructions:\n",
    "- Get the degree for all nodes in the network and print the top 10 authors by degree (1 pt) (Note: some entries (e.g., \"II,\" \"III,\" \"Jr.\") may not represent real authors due to data quality issues. Please keep them in the list and don't do any cleaning.)\n",
    "- A high degree  indicates that an author has collaborated with many other authors. However, it does not consider if the collaborations happen multiple times between the same authors. A weighted degree would be a better measure to consider the number of collaborations between authors. Get the top 10 authors by weighted degree. P.S. The weighted degree is the sum of the weights of the edges connected to the node. (1 pt)\n",
    "- Which two authors have the highest number of collaborations? How many papers have they co-authored together? (2 pt)"
   ]
  },
  {
   "cell_type": "code",
   "execution_count": null,
   "metadata": {},
   "outputs": [],
   "source": []
  },
  {
   "cell_type": "markdown",
   "metadata": {},
   "source": [
    "**3.7 (4 pts)**: Analyze the reference/citation information \n",
    "\n",
    "Understanding the citation patterns of papers helps reveal their academic impact and how knowledge propagates through the research community. In this task, you will analyze the reference and citation relationships within the dataset.\n",
    "\n",
    "First, let's create a citation network where:\n",
    "- Nodes: Each node represents a unique paper, identified by its id in the dataset.\n",
    "- Edges: There is an edge from paper A to paper B if paper A cites paper B. \n",
    "\n",
    "\n",
    "#### Instructions:\n",
    "- **Discuss:** Is it reasonable that the citation network contains cycles?  What would a cycle( not self loop) in the citation network represent? (2 pt)\n",
    "- Which paper has the highest number of citations? How many papers cite this paper? (1 pt)\n",
    "- Which paper has the highest number of references? How many papers does this paper cite? (1 pt)\n"
   ]
  },
  {
   "cell_type": "code",
   "execution_count": 21,
   "metadata": {},
   "outputs": [
    {
     "ename": "TypeError",
     "evalue": "unhashable type: 'list'",
     "output_type": "error",
     "traceback": [
      "\u001b[1;31m---------------------------------------------------------------------------\u001b[0m",
      "\u001b[1;31mTypeError\u001b[0m                                 Traceback (most recent call last)",
      "Cell \u001b[1;32mIn[21], line 2\u001b[0m\n\u001b[0;32m      1\u001b[0m df[\u001b[38;5;124m'\u001b[39m\u001b[38;5;124mart_id\u001b[39m\u001b[38;5;124m'\u001b[39m] \u001b[38;5;241m=\u001b[39m df\u001b[38;5;241m.\u001b[39mindex\n\u001b[1;32m----> 2\u001b[0m G_citation \u001b[38;5;241m=\u001b[39m \u001b[43mnx\u001b[49m\u001b[38;5;241;43m.\u001b[39;49m\u001b[43mfrom_pandas_edgelist\u001b[49m\u001b[43m(\u001b[49m\u001b[43mdf\u001b[49m\u001b[38;5;241;43m=\u001b[39;49m\u001b[43mdf\u001b[49m\u001b[43m,\u001b[49m\u001b[43m \u001b[49m\u001b[43msource\u001b[49m\u001b[38;5;241;43m=\u001b[39;49m\u001b[38;5;124;43m'\u001b[39;49m\u001b[38;5;124;43mart_id\u001b[39;49m\u001b[38;5;124;43m'\u001b[39;49m\u001b[43m,\u001b[49m\u001b[43m \u001b[49m\u001b[43mtarget\u001b[49m\u001b[38;5;241;43m=\u001b[39;49m\u001b[38;5;124;43m'\u001b[39;49m\u001b[38;5;124;43mreferences\u001b[39;49m\u001b[38;5;124;43m'\u001b[39;49m\u001b[43m)\u001b[49m\n",
      "File \u001b[1;32mc:\\Users\\thoma\\AppData\\Local\\anaconda3\\envs\\ada_exam_2024\\lib\\site-packages\\networkx\\utils\\decorators.py:788\u001b[0m, in \u001b[0;36margmap.__call__.<locals>.func\u001b[1;34m(_argmap__wrapper, *args, **kwargs)\u001b[0m\n\u001b[0;32m    787\u001b[0m \u001b[38;5;28;01mdef\u001b[39;00m\u001b[38;5;250m \u001b[39m\u001b[38;5;21mfunc\u001b[39m(\u001b[38;5;241m*\u001b[39margs, __wrapper\u001b[38;5;241m=\u001b[39m\u001b[38;5;28;01mNone\u001b[39;00m, \u001b[38;5;241m*\u001b[39m\u001b[38;5;241m*\u001b[39mkwargs):\n\u001b[1;32m--> 788\u001b[0m     \u001b[38;5;28;01mreturn\u001b[39;00m argmap\u001b[38;5;241m.\u001b[39m_lazy_compile(__wrapper)(\u001b[38;5;241m*\u001b[39margs, \u001b[38;5;241m*\u001b[39m\u001b[38;5;241m*\u001b[39mkwargs)\n",
      "File \u001b[1;32m<class 'networkx.utils.decorators.argmap'> compilation 14:3\u001b[0m, in \u001b[0;36margmap_from_pandas_edgelist_11\u001b[1;34m(df, source, target, edge_attr, create_using, edge_key, backend, **backend_kwargs)\u001b[0m\n\u001b[0;32m      1\u001b[0m \u001b[38;5;28;01mimport\u001b[39;00m\u001b[38;5;250m \u001b[39m\u001b[38;5;21;01mbz2\u001b[39;00m\n\u001b[0;32m      2\u001b[0m \u001b[38;5;28;01mimport\u001b[39;00m\u001b[38;5;250m \u001b[39m\u001b[38;5;21;01mcollections\u001b[39;00m\n\u001b[1;32m----> 3\u001b[0m \u001b[38;5;28;01mimport\u001b[39;00m\u001b[38;5;250m \u001b[39m\u001b[38;5;21;01mgzip\u001b[39;00m\n\u001b[0;32m      4\u001b[0m \u001b[38;5;28;01mimport\u001b[39;00m\u001b[38;5;250m \u001b[39m\u001b[38;5;21;01minspect\u001b[39;00m\n\u001b[0;32m      5\u001b[0m \u001b[38;5;28;01mimport\u001b[39;00m\u001b[38;5;250m \u001b[39m\u001b[38;5;21;01mitertools\u001b[39;00m\n",
      "File \u001b[1;32mc:\\Users\\thoma\\AppData\\Local\\anaconda3\\envs\\ada_exam_2024\\lib\\site-packages\\networkx\\utils\\backends.py:967\u001b[0m, in \u001b[0;36m_dispatchable.__call__\u001b[1;34m(self, backend, *args, **kwargs)\u001b[0m\n\u001b[0;32m    965\u001b[0m     \u001b[38;5;28;01mif\u001b[39;00m backend \u001b[38;5;129;01mis\u001b[39;00m \u001b[38;5;129;01mnot\u001b[39;00m \u001b[38;5;28;01mNone\u001b[39;00m \u001b[38;5;129;01mand\u001b[39;00m backend \u001b[38;5;241m!=\u001b[39m \u001b[38;5;124m\"\u001b[39m\u001b[38;5;124mnetworkx\u001b[39m\u001b[38;5;124m\"\u001b[39m:\n\u001b[0;32m    966\u001b[0m         \u001b[38;5;28;01mraise\u001b[39;00m \u001b[38;5;167;01mImportError\u001b[39;00m(\u001b[38;5;124mf\u001b[39m\u001b[38;5;124m\"\u001b[39m\u001b[38;5;124m'\u001b[39m\u001b[38;5;132;01m{\u001b[39;00mbackend\u001b[38;5;132;01m}\u001b[39;00m\u001b[38;5;124m'\u001b[39m\u001b[38;5;124m backend is not installed\u001b[39m\u001b[38;5;124m\"\u001b[39m)\n\u001b[1;32m--> 967\u001b[0m     \u001b[38;5;28;01mreturn\u001b[39;00m \u001b[38;5;28mself\u001b[39m\u001b[38;5;241m.\u001b[39morig_func(\u001b[38;5;241m*\u001b[39margs, \u001b[38;5;241m*\u001b[39m\u001b[38;5;241m*\u001b[39mkwargs)\n\u001b[0;32m    969\u001b[0m \u001b[38;5;66;03m# Use `backend_name` in this function instead of `backend`.\u001b[39;00m\n\u001b[0;32m    970\u001b[0m \u001b[38;5;66;03m# This is purely for aesthetics and to make it easier to search for this\u001b[39;00m\n\u001b[0;32m    971\u001b[0m \u001b[38;5;66;03m# variable since \"backend\" is used in many comments and log/error messages.\u001b[39;00m\n\u001b[0;32m    972\u001b[0m backend_name \u001b[38;5;241m=\u001b[39m backend\n",
      "File \u001b[1;32mc:\\Users\\thoma\\AppData\\Local\\anaconda3\\envs\\ada_exam_2024\\lib\\site-packages\\networkx\\convert_matrix.py:439\u001b[0m, in \u001b[0;36mfrom_pandas_edgelist\u001b[1;34m(df, source, target, edge_attr, create_using, edge_key)\u001b[0m\n\u001b[0;32m    437\u001b[0m             g\u001b[38;5;241m.\u001b[39madd_edge(u, v, k)\n\u001b[0;32m    438\u001b[0m     \u001b[38;5;28;01melse\u001b[39;00m:\n\u001b[1;32m--> 439\u001b[0m         \u001b[43mg\u001b[49m\u001b[38;5;241;43m.\u001b[39;49m\u001b[43madd_edges_from\u001b[49m\u001b[43m(\u001b[49m\u001b[38;5;28;43mzip\u001b[39;49m\u001b[43m(\u001b[49m\u001b[43mdf\u001b[49m\u001b[43m[\u001b[49m\u001b[43msource\u001b[49m\u001b[43m]\u001b[49m\u001b[43m,\u001b[49m\u001b[43m \u001b[49m\u001b[43mdf\u001b[49m\u001b[43m[\u001b[49m\u001b[43mtarget\u001b[49m\u001b[43m]\u001b[49m\u001b[43m)\u001b[49m\u001b[43m)\u001b[49m\n\u001b[0;32m    440\u001b[0m     \u001b[38;5;28;01mreturn\u001b[39;00m g\n\u001b[0;32m    442\u001b[0m reserved_columns \u001b[38;5;241m=\u001b[39m [source, target]\n",
      "File \u001b[1;32mc:\\Users\\thoma\\AppData\\Local\\anaconda3\\envs\\ada_exam_2024\\lib\\site-packages\\networkx\\classes\\graph.py:1044\u001b[0m, in \u001b[0;36mGraph.add_edges_from\u001b[1;34m(self, ebunch_to_add, **attr)\u001b[0m\n\u001b[0;32m   1042\u001b[0m     \u001b[38;5;28mself\u001b[39m\u001b[38;5;241m.\u001b[39m_adj[u] \u001b[38;5;241m=\u001b[39m \u001b[38;5;28mself\u001b[39m\u001b[38;5;241m.\u001b[39madjlist_inner_dict_factory()\n\u001b[0;32m   1043\u001b[0m     \u001b[38;5;28mself\u001b[39m\u001b[38;5;241m.\u001b[39m_node[u] \u001b[38;5;241m=\u001b[39m \u001b[38;5;28mself\u001b[39m\u001b[38;5;241m.\u001b[39mnode_attr_dict_factory()\n\u001b[1;32m-> 1044\u001b[0m \u001b[38;5;28;01mif\u001b[39;00m \u001b[43mv\u001b[49m\u001b[43m \u001b[49m\u001b[38;5;129;43;01mnot\u001b[39;49;00m\u001b[43m \u001b[49m\u001b[38;5;129;43;01min\u001b[39;49;00m\u001b[43m \u001b[49m\u001b[38;5;28;43mself\u001b[39;49m\u001b[38;5;241;43m.\u001b[39;49m\u001b[43m_node\u001b[49m:\n\u001b[0;32m   1045\u001b[0m     \u001b[38;5;28;01mif\u001b[39;00m v \u001b[38;5;129;01mis\u001b[39;00m \u001b[38;5;28;01mNone\u001b[39;00m:\n\u001b[0;32m   1046\u001b[0m         \u001b[38;5;28;01mraise\u001b[39;00m \u001b[38;5;167;01mValueError\u001b[39;00m(\u001b[38;5;124m\"\u001b[39m\u001b[38;5;124mNone cannot be a node\u001b[39m\u001b[38;5;124m\"\u001b[39m)\n",
      "\u001b[1;31mTypeError\u001b[0m: unhashable type: 'list'"
     ]
    }
   ],
   "source": [
    "df['art_id'] = df.index\n",
    "G_citation = nx.from_pandas_edgelist(df=df, source='art_id', target='references')"
   ]
  },
  {
   "cell_type": "markdown",
   "metadata": {},
   "source": [
    "**3.8 (3 pts)**: Analyze the Citation Distribution \n",
    "\n",
    "The citation distribution of papers can provide insights into the impact of research publications. In this task, you will analyze the citation distribution in the dataset.\n",
    "\n",
    "<!-- - Plot the number of papers having a certain level of citation x (x-axis) against x (y-axis) in a log-log scale. -->\n",
    "- Create a frequency distribution where the x-axis represents the number of citations and the y-axis represents the number of papers that have that number of citations. Plot two scatters plot of the frequency distribution first in a normal scale and second in a log-log scale. (2 pts)\n",
    "- **Discuss**: What does the plot suggest about the citation distribution in the dataset? (1 pt)"
   ]
  },
  {
   "cell_type": "code",
   "execution_count": null,
   "metadata": {},
   "outputs": [],
   "source": [
    "# TODO"
   ]
  },
  {
   "cell_type": "markdown",
   "metadata": {},
   "source": [
    "**3.9 (3 pts)**: Central Tendency of Citation Distribution\n",
    "\n",
    "**Discuss:**: There are different ways to describe the central tendency of a citation distribution., such as mean. Determine the measure you think best represents the dataset and explain your reasoning. (Hint: Consider the distribution of the citation data above)\n"
   ]
  },
  {
   "cell_type": "code",
   "execution_count": null,
   "metadata": {},
   "outputs": [],
   "source": [
    "# TODO"
   ]
  },
  {
   "cell_type": "markdown",
   "metadata": {},
   "source": [
    "**3.10 (2pts)**: Network Centrality Measures\n",
    "\n",
    "PageRank is a measure of influence based on link structure. Applying it to citations allows us to rank papers by their academic importance\n",
    "\n",
    "#### Instructions:\n",
    "- You are tasked with curating the 'Top 10 Influential Papers' from this dataset. Use PageRank to justify your selection and display the top 10 papers titles by page rank. (2 pts)\n",
    "- **bonus**: Identify patterns among the top-ranked papers. (2 pts)\n"
   ]
  },
  {
   "cell_type": "code",
   "execution_count": null,
   "metadata": {},
   "outputs": [],
   "source": [
    "# TODO"
   ]
  },
  {
   "cell_type": "markdown",
   "metadata": {},
   "source": [
    "**3.11 (5 pts)**: Bridge Papers\n",
    "\n",
    "Bridge papers are those that connect different research communities. They are essential for fostering interdisciplinary research and knowledge transfer. \n",
    "\n",
    "#### Instructions: \n",
    "- Build a small citation network that only includes papers published in 2005. (2 pts)\n",
    "- Which measurement can help us identify bridge papers in a citation network?  (2 pt)\n",
    "- Try to find top10 bridge papers in the dataset. By looking at their titles, can you identify the research communities they connect? (Pick 2 papers) (1 pt)\n",
    "\n"
   ]
  },
  {
   "cell_type": "code",
   "execution_count": null,
   "metadata": {},
   "outputs": [],
   "source": [
    "# TODO"
   ]
  },
  {
   "cell_type": "markdown",
   "metadata": {},
   "source": [
    "**3.12 (5 pts)**: Author-Citation Network\n",
    "\n",
    "In the previous tasks, we analyzed the co-author network and paper-citation network. In this task, we will analyze the author-citation network, where:\n",
    "- Nodes: Each node represents a unique author, identified by their name in the authors field of the dataset.\n",
    "- Edges: There is an edge from author A to author B if author A cites a paper authored by author B. \n",
    "- The weight of the edge represents the total number of citations from author A to author B.\n",
    "\n",
    "#### Instructions:\n",
    "- Given that we have a Author-Paper Matrix $A$ where each row represents an paper and each column represents an author. The value in the matrix is 1 if the author has contributed to the paper, 0 otherwise. And we also have a Paper-Paper citation matrix $P$ (square matrix) where the value at coordinates (i, j) is 1 if paper j cites paper i, 0 otherwise.\n",
    "- How can you get a Author-Author citation matrix from the above two matrices by matrix multiplication? (You don't need to implement this, just give the formula) (2 pts)\n",
    "- Author A may have never cited author B, but author A might have cited a few papers which cited works by author B. This can be seen as a 2nd degree citation.  More formally, a 2nd degree citation matrix $C_2$ has at each cell (i, j) the number 2nd degree citations from author i to author j. How can you get a 2nd degree citation matrix from the Author-Paper Matrix $A$ and Paper-Paper citation matrix $P$? (You don't need to implement this, just give the formula) (2 pts)\n",
    "- Can you generalize this to nth degree citation matrix? (1 pt)"
   ]
  },
  {
   "cell_type": "code",
   "execution_count": null,
   "metadata": {},
   "outputs": [],
   "source": [
    "# TODO"
   ]
  }
 ],
 "metadata": {
  "kernelspec": {
   "display_name": "ada_exam_2024",
   "language": "python",
   "name": "python3"
  },
  "language_info": {
   "codemirror_mode": {
    "name": "ipython",
    "version": 3
   },
   "file_extension": ".py",
   "mimetype": "text/x-python",
   "name": "python",
   "nbconvert_exporter": "python",
   "pygments_lexer": "ipython3",
   "version": "3.10.16"
  }
 },
 "nbformat": 4,
 "nbformat_minor": 4
}
